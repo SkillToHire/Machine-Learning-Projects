{
 "cells": [
  {
   "cell_type": "markdown",
   "metadata": {},
   "source": [
    "<br>\n",
    "<br>"
   ]
  },
  {
   "cell_type": "markdown",
   "metadata": {},
   "source": [
    "#### Reading the Training Dataset"
   ]
  },
  {
   "cell_type": "code",
   "execution_count": 1,
   "metadata": {},
   "outputs": [
    {
     "data": {
      "text/html": [
       "<div>\n",
       "<style scoped>\n",
       "    .dataframe tbody tr th:only-of-type {\n",
       "        vertical-align: middle;\n",
       "    }\n",
       "\n",
       "    .dataframe tbody tr th {\n",
       "        vertical-align: top;\n",
       "    }\n",
       "\n",
       "    .dataframe thead th {\n",
       "        text-align: right;\n",
       "    }\n",
       "</style>\n",
       "<table border=\"1\" class=\"dataframe\">\n",
       "  <thead>\n",
       "    <tr style=\"text-align: right;\">\n",
       "      <th></th>\n",
       "      <th>file</th>\n",
       "      <th>artist</th>\n",
       "      <th>title</th>\n",
       "      <th>lyrics</th>\n",
       "      <th>genre</th>\n",
       "      <th>mood</th>\n",
       "      <th>year</th>\n",
       "    </tr>\n",
       "  </thead>\n",
       "  <tbody>\n",
       "    <tr>\n",
       "      <td>995</td>\n",
       "      <td>TRBIGRY128F42597B3.h5</td>\n",
       "      <td>Sade</td>\n",
       "      <td>All About Our Love</td>\n",
       "      <td>Its all about our love\\nSo shall it be forever...</td>\n",
       "      <td>R&amp;B</td>\n",
       "      <td>sad</td>\n",
       "      <td>2000</td>\n",
       "    </tr>\n",
       "    <tr>\n",
       "      <td>996</td>\n",
       "      <td>TRBIIEU128F9307C88.h5</td>\n",
       "      <td>New Found Glory</td>\n",
       "      <td>Don't Let Her Pull You Down</td>\n",
       "      <td>It's time that I rain on your parade\\nWatch as...</td>\n",
       "      <td>Rock</td>\n",
       "      <td>happy</td>\n",
       "      <td>2009</td>\n",
       "    </tr>\n",
       "    <tr>\n",
       "      <td>997</td>\n",
       "      <td>TRBIIJY12903CE4755.h5</td>\n",
       "      <td>Mindy McCready</td>\n",
       "      <td>Ten Thousand Angels</td>\n",
       "      <td>Speakin of the devil\\nLook who just walked in\\...</td>\n",
       "      <td>Country</td>\n",
       "      <td>happy</td>\n",
       "      <td>1996</td>\n",
       "    </tr>\n",
       "    <tr>\n",
       "      <td>998</td>\n",
       "      <td>TRBIIOT128F423C594.h5</td>\n",
       "      <td>Joy Division</td>\n",
       "      <td>Leaders Of Men</td>\n",
       "      <td>Born from some mother's womb\\nJust like any ot...</td>\n",
       "      <td>Rock</td>\n",
       "      <td>sad</td>\n",
       "      <td>1978</td>\n",
       "    </tr>\n",
       "    <tr>\n",
       "      <td>999</td>\n",
       "      <td>TRBIJYB128F14AE326.h5</td>\n",
       "      <td>Seventh Day Slumber</td>\n",
       "      <td>Shattered Life</td>\n",
       "      <td>This wanting more from me is tearing me, it's ...</td>\n",
       "      <td>Rock</td>\n",
       "      <td>sad</td>\n",
       "      <td>2005</td>\n",
       "    </tr>\n",
       "  </tbody>\n",
       "</table>\n",
       "</div>"
      ],
      "text/plain": [
       "                      file               artist                        title  \\\n",
       "995  TRBIGRY128F42597B3.h5                 Sade           All About Our Love   \n",
       "996  TRBIIEU128F9307C88.h5      New Found Glory  Don't Let Her Pull You Down   \n",
       "997  TRBIIJY12903CE4755.h5       Mindy McCready          Ten Thousand Angels   \n",
       "998  TRBIIOT128F423C594.h5         Joy Division               Leaders Of Men   \n",
       "999  TRBIJYB128F14AE326.h5  Seventh Day Slumber               Shattered Life   \n",
       "\n",
       "                                                lyrics    genre   mood  year  \n",
       "995  Its all about our love\\nSo shall it be forever...      R&B    sad  2000  \n",
       "996  It's time that I rain on your parade\\nWatch as...     Rock  happy  2009  \n",
       "997  Speakin of the devil\\nLook who just walked in\\...  Country  happy  1996  \n",
       "998  Born from some mother's womb\\nJust like any ot...     Rock    sad  1978  \n",
       "999  This wanting more from me is tearing me, it's ...     Rock    sad  2005  "
      ]
     },
     "execution_count": 1,
     "metadata": {},
     "output_type": "execute_result"
    }
   ],
   "source": [
    "import warnings\n",
    "warnings.filterwarnings(\"ignore\")\n",
    "import pandas as pd\n",
    "\n",
    "\n",
    "df_train = pd.read_csv('train_lyrics_1000.csv')\n",
    "df_test = pd.read_csv('valid_lyrics_200.csv')\n",
    "\n",
    "df_train.tail()"
   ]
  },
  {
   "cell_type": "code",
   "execution_count": 2,
   "metadata": {},
   "outputs": [
    {
     "data": {
      "text/plain": [
       "(1000, 7)"
      ]
     },
     "execution_count": 2,
     "metadata": {},
     "output_type": "execute_result"
    }
   ],
   "source": [
    "df_train.shape"
   ]
  },
  {
   "cell_type": "code",
   "execution_count": 3,
   "metadata": {},
   "outputs": [
    {
     "data": {
      "text/plain": [
       "(200, 6)"
      ]
     },
     "execution_count": 3,
     "metadata": {},
     "output_type": "execute_result"
    }
   ],
   "source": [
    "df_test.shape"
   ]
  },
  {
   "cell_type": "code",
   "execution_count": 4,
   "metadata": {},
   "outputs": [
    {
     "data": {
      "text/html": [
       "<div>\n",
       "<style scoped>\n",
       "    .dataframe tbody tr th:only-of-type {\n",
       "        vertical-align: middle;\n",
       "    }\n",
       "\n",
       "    .dataframe tbody tr th {\n",
       "        vertical-align: top;\n",
       "    }\n",
       "\n",
       "    .dataframe thead th {\n",
       "        text-align: right;\n",
       "    }\n",
       "</style>\n",
       "<table border=\"1\" class=\"dataframe\">\n",
       "  <thead>\n",
       "    <tr style=\"text-align: right;\">\n",
       "      <th></th>\n",
       "      <th>file</th>\n",
       "      <th>artist</th>\n",
       "      <th>title</th>\n",
       "      <th>genre</th>\n",
       "      <th>lyrics</th>\n",
       "      <th>mood</th>\n",
       "    </tr>\n",
       "  </thead>\n",
       "  <tbody>\n",
       "    <tr>\n",
       "      <td>0</td>\n",
       "      <td>TRAFAIB128F426E636.h5</td>\n",
       "      <td>Placebo</td>\n",
       "      <td>Where Is My Mind (XFM Live Version)</td>\n",
       "      <td>Pop</td>\n",
       "      <td>Ooooohh\\nOoooohh\\nOoooohh\\nOoooohh\\n\\nWith you...</td>\n",
       "      <td>happy</td>\n",
       "    </tr>\n",
       "    <tr>\n",
       "      <td>1</td>\n",
       "      <td>TRAFAJC128E078888B.h5</td>\n",
       "      <td>Queens Of The Stone Age</td>\n",
       "      <td>This Lullaby</td>\n",
       "      <td>Rock</td>\n",
       "      <td>Where, oh, where have you been, my love?\\nWher...</td>\n",
       "      <td>sad</td>\n",
       "    </tr>\n",
       "    <tr>\n",
       "      <td>2</td>\n",
       "      <td>TRAFBBP128F92F6CC9.h5</td>\n",
       "      <td>MC5</td>\n",
       "      <td>Looking At You (Cody High School)</td>\n",
       "      <td>Rock</td>\n",
       "      <td>When it happened \\nsomething snapped inside \\n...</td>\n",
       "      <td>happy</td>\n",
       "    </tr>\n",
       "    <tr>\n",
       "      <td>3</td>\n",
       "      <td>TRAFBVU128F426B3F6.h5</td>\n",
       "      <td>Dimmu Borgir</td>\n",
       "      <td>The Fundamental Alienation</td>\n",
       "      <td>Rock</td>\n",
       "      <td>My eyes got blinded\\nAnd conned by the light\\n...</td>\n",
       "      <td>sad</td>\n",
       "    </tr>\n",
       "    <tr>\n",
       "      <td>4</td>\n",
       "      <td>TRAFEEO12903CFEC87.h5</td>\n",
       "      <td>Dark Fortress</td>\n",
       "      <td>The Silver Gate</td>\n",
       "      <td>Rock</td>\n",
       "      <td>[Music: V Santura, Lyrics: Morean]\\n\\nAwake, a...</td>\n",
       "      <td>sad</td>\n",
       "    </tr>\n",
       "  </tbody>\n",
       "</table>\n",
       "</div>"
      ],
      "text/plain": [
       "                    file                   artist  \\\n",
       "0  TRAFAIB128F426E636.h5                  Placebo   \n",
       "1  TRAFAJC128E078888B.h5  Queens Of The Stone Age   \n",
       "2  TRAFBBP128F92F6CC9.h5                      MC5   \n",
       "3  TRAFBVU128F426B3F6.h5             Dimmu Borgir   \n",
       "4  TRAFEEO12903CFEC87.h5            Dark Fortress   \n",
       "\n",
       "                                 title genre  \\\n",
       "0  Where Is My Mind (XFM Live Version)   Pop   \n",
       "1                         This Lullaby  Rock   \n",
       "2    Looking At You (Cody High School)  Rock   \n",
       "3           The Fundamental Alienation  Rock   \n",
       "4                      The Silver Gate  Rock   \n",
       "\n",
       "                                              lyrics   mood  \n",
       "0  Ooooohh\\nOoooohh\\nOoooohh\\nOoooohh\\n\\nWith you...  happy  \n",
       "1  Where, oh, where have you been, my love?\\nWher...    sad  \n",
       "2  When it happened \\nsomething snapped inside \\n...  happy  \n",
       "3  My eyes got blinded\\nAnd conned by the light\\n...    sad  \n",
       "4  [Music: V Santura, Lyrics: Morean]\\n\\nAwake, a...    sad  "
      ]
     },
     "execution_count": 4,
     "metadata": {},
     "output_type": "execute_result"
    }
   ],
   "source": [
    "df_test.head()"
   ]
  },
  {
   "cell_type": "code",
   "execution_count": 5,
   "metadata": {},
   "outputs": [
    {
     "data": {
      "text/plain": [
       "{'happy', 'sad'}"
      ]
     },
     "execution_count": 5,
     "metadata": {},
     "output_type": "execute_result"
    }
   ],
   "source": [
    "set(df_test[\"mood\"])"
   ]
  },
  {
   "cell_type": "code",
   "execution_count": 6,
   "metadata": {},
   "outputs": [],
   "source": [
    "X_train = df_train['lyrics']\n",
    "y_train = df_train['mood']\n",
    "\n",
    "X_test = df_test['lyrics']\n",
    "y_test = df_test['mood']"
   ]
  },
  {
   "cell_type": "code",
   "execution_count": 7,
   "metadata": {},
   "outputs": [
    {
     "name": "stdout",
     "output_type": "stream",
     "text": [
      "before: 0      sad\n",
      "1    happy\n",
      "2      sad\n",
      "3    happy\n",
      "4      sad\n",
      "Name: mood, dtype: object ...\n",
      "after: [1 0 1 0 1] ...\n"
     ]
    }
   ],
   "source": [
    "# Label encoder\n",
    "\n",
    "import pickle\n",
    "import numpy as np\n",
    "\n",
    "pickle_in = open('./label_encoder.p', 'rb')\n",
    "le = pickle.load(pickle_in)\n",
    "pickle_in.close()\n",
    "\n",
    "print('before: %s ...' %y_train[:5])\n",
    "\n",
    "y_train = le.transform(y_train)\n",
    "y_test = le.transform(y_test)\n",
    "\n",
    "print('after: %s ...' %y_train[:5])"
   ]
  },
  {
   "cell_type": "markdown",
   "metadata": {},
   "source": [
    "# Text Preprocessing"
   ]
  },
  {
   "cell_type": "code",
   "execution_count": 8,
   "metadata": {},
   "outputs": [],
   "source": [
    "import pickle\n",
    "stop_words = pickle.load(open('./stopwords.p', 'rb'))\n",
    "semantic_words = pickle.load(open('./whitelist_dicts/semantic_words_py34.p', 'rb'))"
   ]
  },
  {
   "cell_type": "markdown",
   "metadata": {},
   "source": [
    "<br>\n",
    "<br>"
   ]
  },
  {
   "cell_type": "markdown",
   "metadata": {},
   "source": [
    "### Transform texts into bag of words models - Trying different tokenizers"
   ]
  },
  {
   "cell_type": "code",
   "execution_count": 9,
   "metadata": {},
   "outputs": [],
   "source": [
    "from nltk.stem.porter import PorterStemmer\n",
    "from nltk.stem.snowball import EnglishStemmer\n",
    "\n",
    "porter = PorterStemmer()\n",
    "snowball = EnglishStemmer()\n",
    "\n",
    "# raw words\n",
    "tokenizer = lambda text: text.split()\n",
    "\n",
    "# words after Porter stemming \n",
    "tokenizer_porter = lambda text: [porter.stem(word) for word in text.split()]\n",
    "\n",
    "# Words after Snowball stemming\n",
    "tokenizer_snowball = lambda text: [snowball.stem(word) for word in text.split()]\n",
    "\n",
    "# Only words that are in a list of 'positive' or 'negative' words ('whitelist')\n",
    "# http://www.cs.uic.edu/~liub/FBS/sentiment-analysis.html#lexicon\n",
    "tokenizer_whitelist = lambda text: [word for word in text.split() if word in semantic_words]\n",
    "\n",
    "# Porter-stemmed words in whitelist\n",
    "tokenizer_porter_wl = lambda text: [porter.stem(word) for word in text.split() if word in semantic_words]\n",
    "\n",
    "# Snowball-stemmed words in whitelist\n",
    "tokenizer_snowball_wl = lambda text: [snowball.stem(word) for word in text.split() if word in semantic_words]"
   ]
  },
  {
   "cell_type": "markdown",
   "metadata": {},
   "source": [
    "### Looking at vocabulary sizes"
   ]
  },
  {
   "cell_type": "code",
   "execution_count": 24,
   "metadata": {},
   "outputs": [],
   "source": [
    "import re\n",
    "import mlxtend\n",
    "from sklearn.feature_extraction.text import CountVectorizer\n",
    "from sklearn.feature_extraction.text import TfidfVectorizer\n",
    "from sklearn.pipeline import Pipeline\n",
    "from sklearn.ensemble import RandomForestClassifier\n",
    "from mlxtend.preprocessing import DenseTransformer\n",
    "\n",
    "vect_1 = CountVectorizer(binary=False,\n",
    "                         stop_words=stop_words,\n",
    "                         ngram_range=(1,1),\n",
    "                         preprocessor=lambda text: re.sub('[^a-zA-Z]', ' ', text.lower()),\n",
    "                         tokenizer=tokenizer)\n",
    "\n",
    "vect_2 = CountVectorizer(binary=False,\n",
    "                         stop_words=stop_words,\n",
    "                         ngram_range=(1,1),\n",
    "                         preprocessor=lambda text: re.sub('[^a-zA-Z]', ' ', text.lower()),\n",
    "                         tokenizer=tokenizer_porter)\n",
    "    \n",
    "vect_3 = CountVectorizer(binary=False,\n",
    "                         stop_words=stop_words,\n",
    "                         ngram_range=(1,1),\n",
    "                         preprocessor=lambda text: re.sub('[^a-zA-Z]', ' ', text.lower()),\n",
    "                         tokenizer=tokenizer_snowball)  \n",
    "\n",
    "vect_4 = CountVectorizer(binary=False,\n",
    "                         stop_words=stop_words,\n",
    "                         ngram_range=(1,1),\n",
    "                         preprocessor=lambda text: re.sub('[^a-zA-Z]', ' ', text.lower()),\n",
    "                         tokenizer=tokenizer_whitelist)  \n",
    "\n",
    "vect_5 = CountVectorizer(binary=False,\n",
    "                         stop_words=stop_words,\n",
    "                         ngram_range=(1,1),\n",
    "                         preprocessor=lambda text: re.sub('[^a-zA-Z]', ' ', text.lower()),\n",
    "                         tokenizer=tokenizer_porter_wl)\n",
    "\n",
    "vect_6 = CountVectorizer(binary=False,\n",
    "                         stop_words=stop_words,\n",
    "                         ngram_range=(1,1),\n",
    "                         preprocessor=lambda text: re.sub('[^a-zA-Z]', ' ', text.lower()),\n",
    "                         tokenizer=tokenizer_snowball_wl)\n",
    "\n",
    "vect_7 = TfidfVectorizer(binary=False,\n",
    "                         stop_words=stop_words,\n",
    "                         ngram_range=(1,1),\n",
    "                         preprocessor=lambda text: re.sub('[^a-zA-Z]', ' ', text.lower()),\n",
    "                         tokenizer=tokenizer)\n",
    "\n",
    "vect_8 = TfidfVectorizer(binary=False,\n",
    "                         stop_words=stop_words,\n",
    "                         ngram_range=(1,1),\n",
    "                         preprocessor=lambda text: re.sub('[^a-zA-Z]', ' ', text.lower()),\n",
    "                         tokenizer=tokenizer_porter)\n",
    "    \n",
    "vect_9 = TfidfVectorizer(binary=False,\n",
    "                         stop_words=stop_words,\n",
    "                         ngram_range=(1,1),\n",
    "                         preprocessor=lambda text: re.sub('[^a-zA-Z]', ' ', text.lower()),\n",
    "                         tokenizer=tokenizer_snowball)\n",
    "\n",
    "vect_10 = TfidfVectorizer(binary=False,\n",
    "                         stop_words=stop_words,\n",
    "                         ngram_range=(1,1),\n",
    "                         preprocessor=lambda text: re.sub('[^a-zA-Z]', ' ', text.lower()),\n",
    "                         tokenizer=tokenizer_whitelist)    \n",
    "\n",
    "vect_11 = TfidfVectorizer(binary=False,\n",
    "                         stop_words=stop_words,\n",
    "                         ngram_range=(1,1),\n",
    "                         preprocessor=lambda text: re.sub('[^a-zA-Z]', ' ', text.lower()),\n",
    "                         tokenizer=tokenizer_porter_wl)\n",
    "\n",
    "vect_12 = TfidfVectorizer(binary=False,\n",
    "                         stop_words=stop_words,\n",
    "                         ngram_range=(1,1),\n",
    "                         preprocessor=lambda text: re.sub('[^a-zA-Z]', ' ', text.lower()),\n",
    "                         tokenizer=tokenizer_snowball_wl)\n",
    "\n",
    "\n",
    "pipelines = []\n",
    "vectorizers = [vect_1, vect_2, vect_3, vect_4, vect_5, vect_6, vect_7, vect_8, vect_9, vect_10, vect_11, vect_12]\n",
    "from sklearn.naive_bayes import GaussianNB\n",
    "from sklearn.ensemble import RandomForestClassifier\n",
    "for v in vectorizers:\n",
    "    pipelines.append(Pipeline([('vect', v),\n",
    "                               ('dense', DenseTransformer()),\n",
    "                               ('clf',RandomForestClassifier())]))"
   ]
  },
  {
   "cell_type": "code",
   "execution_count": 25,
   "metadata": {},
   "outputs": [
    {
     "name": "stdout",
     "output_type": "stream",
     "text": [
      "Vocabulary sizes\n",
      "\n",
      "CountVec: 11378\n",
      "CountVec porter: 8551\n",
      "CountVec snowball: 8528\n",
      "CountVec wl: 1666\n",
      "CountVec porter+wl: 1349\n",
      "CountVec snowball+wl: 1332\n",
      "TfidfVec: 11378\n",
      "TfidfVec porter: 8551\n",
      "TfidfVec snowball: 8528\n",
      "TfidfVec wl: 1666\n",
      "TfidfVec porter+wl: 1349\n",
      "TfidfVec snowball+wl: 1332\n"
     ]
    }
   ],
   "source": [
    "# done before max_features was set\n",
    "\n",
    "print('Vocabulary sizes\\n')\n",
    "labels = ['CountVec', 'CountVec porter', 'CountVec snowball', 'CountVec wl', 'CountVec porter+wl','CountVec snowball+wl',\n",
    "          'TfidfVec', 'TfidfVec porter', 'TfidfVec snowball', 'TfidfVec wl', 'TfidfVec porter+wl','TfidfVec snowball+wl',]\n",
    "\n",
    "for label, v in zip(labels, vectorizers):\n",
    "    v.fit(X_train)\n",
    "    print('%s: %s' % (label, len(v.vocabulary_)))"
   ]
  },
  {
   "cell_type": "markdown",
   "metadata": {},
   "source": [
    "# Model Selection"
   ]
  },
  {
   "cell_type": "markdown",
   "metadata": {},
   "source": [
    "### Feature Extraction - Cross Validation Error"
   ]
  },
  {
   "cell_type": "code",
   "execution_count": 26,
   "metadata": {},
   "outputs": [
    {
     "name": "stdout",
     "output_type": "stream",
     "text": [
      "clf 1, CountVec: 72.01779401154401\n",
      "clf 2, CountVec porter: 73.72390873015873\n",
      "clf 3, CountVec snowball: 73.2554743867244\n",
      "clf 4, CountVec wl: 68.14885461760463\n",
      "clf 5, CountVec porter+wl: 69.3327380952381\n",
      "clf 6, CountVec snowball+wl: 68.55391414141414\n",
      "clf 7, TfidfVec: 70.22784992784995\n",
      "clf 8, TfidfVec porter: 74.54566197691197\n",
      "clf 9, TfidfVec snowball: 72.85374278499278\n",
      "clf 10, TfidfVec wl: 67.15810786435787\n",
      "clf 11, TfidfVec porter+wl: 67.82792207792208\n",
      "clf 12, TfidfVec snowball+wl: 68.72653318903319\n"
     ]
    }
   ],
   "source": [
    "from sklearn import metrics\n",
    "from sklearn.model_selection import cross_val_score\n",
    "\n",
    "labels = ['CountVec', 'CountVec porter', 'CountVec snowball', 'CountVec wl', 'CountVec porter+wl','CountVec snowball+wl',\n",
    "          'TfidfVec', 'TfidfVec porter', 'TfidfVec snowball', 'TfidfVec wl', 'TfidfVec porter+wl','TfidfVec snowball+wl',]\n",
    "\n",
    "\n",
    "\n",
    "d = {'Data':labels,\n",
    "     'ROC AUC (%)':[],}\n",
    "\n",
    "for i,clf in enumerate(pipelines):\n",
    "    scores = cross_val_score(estimator=clf, X=X_train, y=y_train, scoring='roc_auc', cv=10)\n",
    "    print('clf %s, %s: %s' % (i+1, labels[i], scores.mean()*100))\n",
    "    d['ROC AUC (%)'].append('%0.2f (+/- %0.2f)' % (scores.mean()*100, scores.std()*100))"
   ]
  },
  {
   "cell_type": "code",
   "execution_count": 27,
   "metadata": {},
   "outputs": [
    {
     "data": {
      "text/plain": [
       "array([0, 0, 0, 1, 0, 1, 1, 0, 0, 0, 1, 1, 1, 0, 0, 0, 0, 1, 0, 0, 1, 1,\n",
       "       1, 1, 0, 0, 0, 1, 0, 0, 1, 1, 0, 0, 0, 1, 1, 0, 0, 0, 0, 1, 0, 1,\n",
       "       0, 0, 0, 0, 0, 0, 1, 0, 1, 1, 1, 0, 0, 0, 1, 0, 1, 1, 1, 0, 0, 0,\n",
       "       0, 1, 0, 0, 0, 0, 0, 1, 0, 1, 0, 0, 0, 1, 0, 0, 1, 0, 0, 0, 0, 0,\n",
       "       1, 0, 0, 1, 0, 0, 1, 0, 0, 1, 1, 1, 1, 0, 0, 0, 0, 1, 0, 1, 1, 0,\n",
       "       0, 1, 1, 0, 0, 0, 0, 0, 0, 1, 0, 0, 0, 0, 1, 0, 0, 0, 1, 0, 1, 0,\n",
       "       1, 0, 0, 1, 0, 0, 1, 1, 0, 0, 0, 0, 0, 0, 0, 0, 0, 1, 0, 0, 1, 0,\n",
       "       0, 0, 0, 0, 0, 0, 0, 0, 0, 0, 0, 0, 0, 0, 1, 0, 0, 0, 0, 0, 1, 0,\n",
       "       0, 0, 0, 0, 0, 0, 0, 0, 0, 0, 1, 0, 0, 0, 0, 0, 0, 0, 0, 0, 1, 0,\n",
       "       0, 0])"
      ]
     },
     "execution_count": 27,
     "metadata": {},
     "output_type": "execute_result"
    }
   ],
   "source": [
    "from sklearn.model_selection import cross_val_predict\n",
    "y_predict=cross_val_predict(clf,X_test,y_test)\n",
    "y_predict"
   ]
  },
  {
   "cell_type": "markdown",
   "metadata": {},
   "source": [
    "#### input and output"
   ]
  },
  {
   "cell_type": "code",
   "execution_count": 28,
   "metadata": {},
   "outputs": [
    {
     "name": "stdout",
     "output_type": "stream",
     "text": [
      "your selected lyrics : Where, oh, where have you been, my love?\n",
      "Where, oh, where can you be?\n",
      "It's been so long since the moon has gone\n",
      "And, oh, what a wreck you've made me\n",
      "\n",
      "Are you there over the ocean?\n",
      "Are you there up in the sky?\n",
      "Until the return of my love\n",
      "This lullaby\n",
      "\n",
      "My hope is on the horizon\n",
      "Every face, your eyes I can see\n",
      "I plead and I pray through each night and day\n",
      "Our embrace is only a dream\n",
      "\n",
      "And as sure as days come from moments\n",
      "Each hour becomes a life's time\n",
      "When she'd left I'd only begun\n",
      "This lullaby\n",
      "\r\n",
      "\r\n",
      "model prediction : happy\n"
     ]
    }
   ],
   "source": [
    "d={0:\"happy\",1:\"sad\"}\n",
    "print(\"your selected lyrics :\",X_test[1])\n",
    "print(\"\\r\")\n",
    "print(\"\\r\")\n",
    "print(\"model prediction :\",d[y_predict[1]])"
   ]
  },
  {
   "cell_type": "code",
   "execution_count": 29,
   "metadata": {},
   "outputs": [
    {
     "name": "stdout",
     "output_type": "stream",
     "text": [
      "accuracy_score of our model : 0.63\n"
     ]
    }
   ],
   "source": [
    "from sklearn.metrics import accuracy_score\n",
    "print(\"accuracy_score of our model :\",accuracy_score(y_test,y_predict))"
   ]
  },
  {
   "cell_type": "code",
   "execution_count": 30,
   "metadata": {},
   "outputs": [
    {
     "data": {
      "text/plain": [
       "Text(0.5, 1, 'Confusion matrix')"
      ]
     },
     "execution_count": 30,
     "metadata": {},
     "output_type": "execute_result"
    },
    {
     "data": {
      "image/png": "[encoded data removed]",
      "text/plain": [
       "<Figure size 432x288 with 2 Axes>"
      ]
     },
     "metadata": {
      "needs_background": "light"
     },
     "output_type": "display_data"
    }
   ],
   "source": [
    "import matplotlib.pyplot as plt\n",
    "import seaborn as sns\n",
    "from sklearn.metrics import confusion_matrix\n",
    "c=confusion_matrix(y_test,y_predict)\n",
    "sns.heatmap(c,annot=True,fmt='d')\n",
    "plt.title(\"Confusion matrix\")"
   ]
  },
  {
   "cell_type": "code",
   "execution_count": 23,
   "metadata": {},
   "outputs": [],
   "source": [
    "from sklearn.ensemble import RandomForestClassifier"
   ]
  },
  {
   "cell_type": "code",
   "execution_count": 77,
   "metadata": {},
   "outputs": [],
   "source": [
    "#df_perform.to_csv('./random_forests_data/rand_forest_featextr_1.csv', index=False)"
   ]
  },
  {
   "cell_type": "markdown",
   "metadata": {},
   "source": [
    "<br>\n",
    "<br>"
   ]
  },
  {
   "cell_type": "markdown",
   "metadata": {},
   "source": [
    "<br>\n",
    "<br>"
   ]
  },
  {
   "cell_type": "code",
   "execution_count": null,
   "metadata": {},
   "outputs": [],
   "source": []
  }
 ],
 "metadata": {
  "kernelspec": {
   "display_name": "Python 3",
   "language": "python",
   "name": "python3"
  },
  "language_info": {
   "codemirror_mode": {
    "name": "ipython",
    "version": 3
   },
   "file_extension": ".py",
   "mimetype": "text/x-python",
   "name": "python",
   "nbconvert_exporter": "python",
   "pygments_lexer": "ipython3",
   "version": "3.7.4"
  }
 },
 "nbformat": 4,
 "nbformat_minor": 1
}
