{
 "cells": [
  {
   "cell_type": "markdown",
   "metadata": {},
   "source": [
    "### Fake News Detection Using Natural Language Processing (NLP) ,Classification Modeling,Neural Networks"
   ]
  },
  {
   "cell_type": "markdown",
   "metadata": {},
   "source": [
    "### Import Libraries"
   ]
  },
  {
   "cell_type": "code",
   "execution_count": 83,
   "metadata": {},
   "outputs": [],
   "source": [
    "# API scrape \n",
    "#from psaw import PushshiftAPI\n",
    "\n",
    "# Basic libraries\n",
    "import warnings\n",
    "warnings.filterwarnings(\"ignore\")\n",
    "import numpy as np\n",
    "import pandas as pd\n",
    "\n",
    "# Data Visualization\n",
    "import matplotlib.pyplot as plt\n",
    "import seaborn as sns\n",
    "%config InlineBackend.figure_format = 'retina'\n",
    "%matplotlib inline\n",
    "\n",
    "# Natural Language Processing\n",
    "from sklearn.feature_extraction import stop_words\n",
    "from sklearn.feature_extraction.text import CountVectorizer, TfidfVectorizer\n",
    "\n",
    "# Modeling\n",
    "from sklearn.linear_model import LogisticRegression\n",
    "from sklearn.model_selection import train_test_split, GridSearchCV\n",
    "from sklearn.pipeline import Pipeline\n",
    "from sklearn.naive_bayes import MultinomialNB\n",
    "from sklearn import metrics\n",
    "from sklearn.metrics import accuracy_score, recall_score, precision_score, confusion_matrix\n"
   ]
  },
  {
   "cell_type": "markdown",
   "metadata": {},
   "source": [
    "# Data Scrape"
   ]
  },
  {
   "cell_type": "markdown",
   "metadata": {},
   "source": [
    "I chose to scrape posts from r/TheOnion and r/nottheonion in order to create a fake news model that could accurately distinguish between fake news and absurd news. From each subbreddit I scraped the following information:  \n",
    " - `title`: title of subreddit post \n",
    " - `subreddit`: which subreddit the post belongs to \n",
    " - `num_comments`: the number of comments for a post \n",
    " - `author`: author's username of a post\n",
    " - `subreddit_subcribers`: number of subcribers for that subreddit \n",
    " - `score`: the score received on reddit \n",
    " - `domain`: the domain referenced in the post \n",
    " - `created_utc`: date and time the post was created\n",
    "\n",
    "In total, 29,867 posts were scraped: 15k from r/nottheonion and 14,867 from r/TheOnion. \n",
    "\n",
    "_Hat tip: [David Capella](http://davidcapella.com/) for sharing with me how to use Pushshift_"
   ]
  },
  {
   "cell_type": "markdown",
   "metadata": {},
   "source": [
    "### Import Data"
   ]
  },
  {
   "cell_type": "code",
   "execution_count": 84,
   "metadata": {},
   "outputs": [],
   "source": [
    "# If you're running this notebook, you can begin with this cell as the data has already been saved to a csv\n",
    "\n",
    "# r/TheOnion DataFrame\n",
    "df_onion = pd.read_csv('./data/the_onion.csv')\n",
    "\n",
    "# r/nottheonion DataFrame\n",
    "df_not_onion = pd.read_csv('./data/not_onion.csv')"
   ]
  },
  {
   "cell_type": "markdown",
   "metadata": {},
   "source": [
    "### Preview `df_onion`"
   ]
  },
  {
   "cell_type": "code",
   "execution_count": 85,
   "metadata": {},
   "outputs": [
    {
     "name": "stdout",
     "output_type": "stream",
     "text": [
      "Shape: (14868, 8)\n"
     ]
    },
    {
     "data": {
      "text/html": [
       "<div>\n",
       "<style scoped>\n",
       "    .dataframe tbody tr th:only-of-type {\n",
       "        vertical-align: middle;\n",
       "    }\n",
       "\n",
       "    .dataframe tbody tr th {\n",
       "        vertical-align: top;\n",
       "    }\n",
       "\n",
       "    .dataframe thead th {\n",
       "        text-align: right;\n",
       "    }\n",
       "</style>\n",
       "<table border=\"1\" class=\"dataframe\">\n",
       "  <thead>\n",
       "    <tr style=\"text-align: right;\">\n",
       "      <th></th>\n",
       "      <th>Unnamed: 0</th>\n",
       "      <th>author</th>\n",
       "      <th>domain</th>\n",
       "      <th>num_comments</th>\n",
       "      <th>score</th>\n",
       "      <th>subreddit</th>\n",
       "      <th>timestamp</th>\n",
       "      <th>title</th>\n",
       "    </tr>\n",
       "  </thead>\n",
       "  <tbody>\n",
       "    <tr>\n",
       "      <td>0</td>\n",
       "      <td>0</td>\n",
       "      <td>Kotaay</td>\n",
       "      <td>google.ca</td>\n",
       "      <td>1</td>\n",
       "      <td>1</td>\n",
       "      <td>TheOnion</td>\n",
       "      <td>1554658622</td>\n",
       "      <td>Jack Nicholson Banned From Sitting Courtside A...</td>\n",
       "    </tr>\n",
       "    <tr>\n",
       "      <td>1</td>\n",
       "      <td>1</td>\n",
       "      <td>DisastrousCandy3</td>\n",
       "      <td>theonion.com</td>\n",
       "      <td>3</td>\n",
       "      <td>1</td>\n",
       "      <td>TheOnion</td>\n",
       "      <td>1554600149</td>\n",
       "      <td>NicoDerm Introduces New Nicotine Eye Patch</td>\n",
       "    </tr>\n",
       "    <tr>\n",
       "      <td>2</td>\n",
       "      <td>2</td>\n",
       "      <td>SlovenianCat</td>\n",
       "      <td>youtu.be</td>\n",
       "      <td>0</td>\n",
       "      <td>1</td>\n",
       "      <td>TheOnion</td>\n",
       "      <td>1554585700</td>\n",
       "      <td>Last Bastion Of U.S. Economy Succumbs To Pancr...</td>\n",
       "    </tr>\n",
       "    <tr>\n",
       "      <td>3</td>\n",
       "      <td>3</td>\n",
       "      <td>MyNameIsGriffon</td>\n",
       "      <td>sports.theonion.com</td>\n",
       "      <td>0</td>\n",
       "      <td>386</td>\n",
       "      <td>TheOnion</td>\n",
       "      <td>1554559311</td>\n",
       "      <td>Tom Izzo Calls 2019 Spartans Best Team He’s Ev...</td>\n",
       "    </tr>\n",
       "    <tr>\n",
       "      <td>4</td>\n",
       "      <td>4</td>\n",
       "      <td>MyNameIsGriffon</td>\n",
       "      <td>theonion.com</td>\n",
       "      <td>0</td>\n",
       "      <td>3</td>\n",
       "      <td>TheOnion</td>\n",
       "      <td>1554501708</td>\n",
       "      <td>House Democrats Formally Request Trump’s Tax R...</td>\n",
       "    </tr>\n",
       "  </tbody>\n",
       "</table>\n",
       "</div>"
      ],
      "text/plain": [
       "   Unnamed: 0            author               domain  num_comments  score  \\\n",
       "0           0            Kotaay            google.ca             1      1   \n",
       "1           1  DisastrousCandy3         theonion.com             3      1   \n",
       "2           2      SlovenianCat             youtu.be             0      1   \n",
       "3           3   MyNameIsGriffon  sports.theonion.com             0    386   \n",
       "4           4   MyNameIsGriffon         theonion.com             0      3   \n",
       "\n",
       "  subreddit   timestamp                                              title  \n",
       "0  TheOnion  1554658622  Jack Nicholson Banned From Sitting Courtside A...  \n",
       "1  TheOnion  1554600149         NicoDerm Introduces New Nicotine Eye Patch  \n",
       "2  TheOnion  1554585700  Last Bastion Of U.S. Economy Succumbs To Pancr...  \n",
       "3  TheOnion  1554559311  Tom Izzo Calls 2019 Spartans Best Team He’s Ev...  \n",
       "4  TheOnion  1554501708  House Democrats Formally Request Trump’s Tax R...  "
      ]
     },
     "execution_count": 85,
     "metadata": {},
     "output_type": "execute_result"
    }
   ],
   "source": [
    "# Show first 5 rows of df_onion\n",
    "print(\"Shape:\", df_onion.shape)\n",
    "df_onion.head()"
   ]
  },
  {
   "cell_type": "markdown",
   "metadata": {},
   "source": [
    "### Preview `df_not_onion`"
   ]
  },
  {
   "cell_type": "code",
   "execution_count": 86,
   "metadata": {},
   "outputs": [
    {
     "name": "stdout",
     "output_type": "stream",
     "text": [
      "Shape: (15000, 8)\n"
     ]
    },
    {
     "data": {
      "text/html": [
       "<div>\n",
       "<style scoped>\n",
       "    .dataframe tbody tr th:only-of-type {\n",
       "        vertical-align: middle;\n",
       "    }\n",
       "\n",
       "    .dataframe tbody tr th {\n",
       "        vertical-align: top;\n",
       "    }\n",
       "\n",
       "    .dataframe thead th {\n",
       "        text-align: right;\n",
       "    }\n",
       "</style>\n",
       "<table border=\"1\" class=\"dataframe\">\n",
       "  <thead>\n",
       "    <tr style=\"text-align: right;\">\n",
       "      <th></th>\n",
       "      <th>Unnamed: 0</th>\n",
       "      <th>author</th>\n",
       "      <th>domain</th>\n",
       "      <th>num_comments</th>\n",
       "      <th>score</th>\n",
       "      <th>subreddit</th>\n",
       "      <th>timestamp</th>\n",
       "      <th>title</th>\n",
       "    </tr>\n",
       "  </thead>\n",
       "  <tbody>\n",
       "    <tr>\n",
       "      <td>0</td>\n",
       "      <td>0</td>\n",
       "      <td>drak0bsidian</td>\n",
       "      <td>cnn.com</td>\n",
       "      <td>0</td>\n",
       "      <td>1</td>\n",
       "      <td>nottheonion</td>\n",
       "      <td>1554663925</td>\n",
       "      <td>Suspected rhino poacher is killed by an elepha...</td>\n",
       "    </tr>\n",
       "    <tr>\n",
       "      <td>1</td>\n",
       "      <td>1</td>\n",
       "      <td>somefaces</td>\n",
       "      <td>nypost.com</td>\n",
       "      <td>1</td>\n",
       "      <td>1</td>\n",
       "      <td>nottheonion</td>\n",
       "      <td>1554663648</td>\n",
       "      <td>Taliban commander turns himself in to collect ...</td>\n",
       "    </tr>\n",
       "    <tr>\n",
       "      <td>2</td>\n",
       "      <td>2</td>\n",
       "      <td>Sombez</td>\n",
       "      <td>nytimes.com</td>\n",
       "      <td>1</td>\n",
       "      <td>1</td>\n",
       "      <td>nottheonion</td>\n",
       "      <td>1554663558</td>\n",
       "      <td>Rhino Poacher Killed by Elephant and Eaten by ...</td>\n",
       "    </tr>\n",
       "    <tr>\n",
       "      <td>3</td>\n",
       "      <td>3</td>\n",
       "      <td>Bayou-Maharaja</td>\n",
       "      <td>ktoo.org</td>\n",
       "      <td>0</td>\n",
       "      <td>1</td>\n",
       "      <td>nottheonion</td>\n",
       "      <td>1554662778</td>\n",
       "      <td>Young shoves female reporter on way to Violenc...</td>\n",
       "    </tr>\n",
       "    <tr>\n",
       "      <td>4</td>\n",
       "      <td>4</td>\n",
       "      <td>phantommaster1999</td>\n",
       "      <td>buzz.ie</td>\n",
       "      <td>1</td>\n",
       "      <td>1</td>\n",
       "      <td>nottheonion</td>\n",
       "      <td>1554661988</td>\n",
       "      <td>Poacher hunting rhinos trampled to death by el...</td>\n",
       "    </tr>\n",
       "  </tbody>\n",
       "</table>\n",
       "</div>"
      ],
      "text/plain": [
       "   Unnamed: 0             author       domain  num_comments  score  \\\n",
       "0           0       drak0bsidian      cnn.com             0      1   \n",
       "1           1          somefaces   nypost.com             1      1   \n",
       "2           2             Sombez  nytimes.com             1      1   \n",
       "3           3     Bayou-Maharaja     ktoo.org             0      1   \n",
       "4           4  phantommaster1999      buzz.ie             1      1   \n",
       "\n",
       "     subreddit   timestamp                                              title  \n",
       "0  nottheonion  1554663925  Suspected rhino poacher is killed by an elepha...  \n",
       "1  nottheonion  1554663648  Taliban commander turns himself in to collect ...  \n",
       "2  nottheonion  1554663558  Rhino Poacher Killed by Elephant and Eaten by ...  \n",
       "3  nottheonion  1554662778  Young shoves female reporter on way to Violenc...  \n",
       "4  nottheonion  1554661988  Poacher hunting rhinos trampled to death by el...  "
      ]
     },
     "execution_count": 86,
     "metadata": {},
     "output_type": "execute_result"
    }
   ],
   "source": [
    "# Show first 5 rows of df_not_onion\n",
    "print(\"Shape:\", df_not_onion.shape)\n",
    "df_not_onion.head()"
   ]
  },
  {
   "cell_type": "markdown",
   "metadata": {},
   "source": [
    "#### Clean Data"
   ]
  },
  {
   "cell_type": "markdown",
   "metadata": {},
   "source": [
    "##### Data Cleaning Function"
   ]
  },
  {
   "cell_type": "code",
   "execution_count": 87,
   "metadata": {},
   "outputs": [],
   "source": [
    "def clean_data(dataframe):\n",
    "\n",
    "    # Drop duplicate rows\n",
    "    dataframe.drop_duplicates(subset='title', inplace=True)\n",
    "    \n",
    "    # Remove punctation\n",
    "    dataframe['title'] = dataframe['title'].str.replace('[^\\w\\s]',' ')\n",
    "\n",
    "    # Remove numbers \n",
    "    dataframe['title'] = dataframe['title'].str.replace('[^A-Za-z]',' ')\n",
    "\n",
    "    # Make sure any double-spaces are single \n",
    "    dataframe['title'] = dataframe['title'].str.replace('  ',' ')\n",
    "    dataframe['title'] = dataframe['title'].str.replace('  ',' ')\n",
    "\n",
    "    # Transform all text to lowercase\n",
    "    dataframe['title'] = dataframe['title'].str.lower()\n",
    "    \n",
    "    print(\"New shape:\", dataframe.shape)\n",
    "    return dataframe.head()"
   ]
  },
  {
   "cell_type": "markdown",
   "metadata": {},
   "source": [
    "### Clean `df_onion`"
   ]
  },
  {
   "cell_type": "code",
   "execution_count": 88,
   "metadata": {},
   "outputs": [
    {
     "name": "stdout",
     "output_type": "stream",
     "text": [
      "New shape: (14189, 8)\n"
     ]
    },
    {
     "data": {
      "text/html": [
       "<div>\n",
       "<style scoped>\n",
       "    .dataframe tbody tr th:only-of-type {\n",
       "        vertical-align: middle;\n",
       "    }\n",
       "\n",
       "    .dataframe tbody tr th {\n",
       "        vertical-align: top;\n",
       "    }\n",
       "\n",
       "    .dataframe thead th {\n",
       "        text-align: right;\n",
       "    }\n",
       "</style>\n",
       "<table border=\"1\" class=\"dataframe\">\n",
       "  <thead>\n",
       "    <tr style=\"text-align: right;\">\n",
       "      <th></th>\n",
       "      <th>Unnamed: 0</th>\n",
       "      <th>author</th>\n",
       "      <th>domain</th>\n",
       "      <th>num_comments</th>\n",
       "      <th>score</th>\n",
       "      <th>subreddit</th>\n",
       "      <th>timestamp</th>\n",
       "      <th>title</th>\n",
       "    </tr>\n",
       "  </thead>\n",
       "  <tbody>\n",
       "    <tr>\n",
       "      <td>0</td>\n",
       "      <td>0</td>\n",
       "      <td>Kotaay</td>\n",
       "      <td>google.ca</td>\n",
       "      <td>1</td>\n",
       "      <td>1</td>\n",
       "      <td>TheOnion</td>\n",
       "      <td>1554658622</td>\n",
       "      <td>jack nicholson banned from sitting courtside a...</td>\n",
       "    </tr>\n",
       "    <tr>\n",
       "      <td>1</td>\n",
       "      <td>1</td>\n",
       "      <td>DisastrousCandy3</td>\n",
       "      <td>theonion.com</td>\n",
       "      <td>3</td>\n",
       "      <td>1</td>\n",
       "      <td>TheOnion</td>\n",
       "      <td>1554600149</td>\n",
       "      <td>nicoderm introduces new nicotine eye patch</td>\n",
       "    </tr>\n",
       "    <tr>\n",
       "      <td>2</td>\n",
       "      <td>2</td>\n",
       "      <td>SlovenianCat</td>\n",
       "      <td>youtu.be</td>\n",
       "      <td>0</td>\n",
       "      <td>1</td>\n",
       "      <td>TheOnion</td>\n",
       "      <td>1554585700</td>\n",
       "      <td>last bastion of u s economy succumbs to pancre...</td>\n",
       "    </tr>\n",
       "    <tr>\n",
       "      <td>3</td>\n",
       "      <td>3</td>\n",
       "      <td>MyNameIsGriffon</td>\n",
       "      <td>sports.theonion.com</td>\n",
       "      <td>0</td>\n",
       "      <td>386</td>\n",
       "      <td>TheOnion</td>\n",
       "      <td>1554559311</td>\n",
       "      <td>tom izzo calls  spartans best team he s ever t...</td>\n",
       "    </tr>\n",
       "    <tr>\n",
       "      <td>4</td>\n",
       "      <td>4</td>\n",
       "      <td>MyNameIsGriffon</td>\n",
       "      <td>theonion.com</td>\n",
       "      <td>0</td>\n",
       "      <td>3</td>\n",
       "      <td>TheOnion</td>\n",
       "      <td>1554501708</td>\n",
       "      <td>house democrats formally request trump s tax r...</td>\n",
       "    </tr>\n",
       "  </tbody>\n",
       "</table>\n",
       "</div>"
      ],
      "text/plain": [
       "   Unnamed: 0            author               domain  num_comments  score  \\\n",
       "0           0            Kotaay            google.ca             1      1   \n",
       "1           1  DisastrousCandy3         theonion.com             3      1   \n",
       "2           2      SlovenianCat             youtu.be             0      1   \n",
       "3           3   MyNameIsGriffon  sports.theonion.com             0    386   \n",
       "4           4   MyNameIsGriffon         theonion.com             0      3   \n",
       "\n",
       "  subreddit   timestamp                                              title  \n",
       "0  TheOnion  1554658622  jack nicholson banned from sitting courtside a...  \n",
       "1  TheOnion  1554600149         nicoderm introduces new nicotine eye patch  \n",
       "2  TheOnion  1554585700  last bastion of u s economy succumbs to pancre...  \n",
       "3  TheOnion  1554559311  tom izzo calls  spartans best team he s ever t...  \n",
       "4  TheOnion  1554501708  house democrats formally request trump s tax r...  "
      ]
     },
     "execution_count": 88,
     "metadata": {},
     "output_type": "execute_result"
    }
   ],
   "source": [
    "# Call `clean_data(dataframe)` function\n",
    "clean_data(df_onion)"
   ]
  },
  {
   "cell_type": "markdown",
   "metadata": {},
   "source": [
    "### Clean `df_not_onion`"
   ]
  },
  {
   "cell_type": "code",
   "execution_count": 89,
   "metadata": {},
   "outputs": [
    {
     "name": "stdout",
     "output_type": "stream",
     "text": [
      "New shape: (12086, 8)\n"
     ]
    },
    {
     "data": {
      "text/html": [
       "<div>\n",
       "<style scoped>\n",
       "    .dataframe tbody tr th:only-of-type {\n",
       "        vertical-align: middle;\n",
       "    }\n",
       "\n",
       "    .dataframe tbody tr th {\n",
       "        vertical-align: top;\n",
       "    }\n",
       "\n",
       "    .dataframe thead th {\n",
       "        text-align: right;\n",
       "    }\n",
       "</style>\n",
       "<table border=\"1\" class=\"dataframe\">\n",
       "  <thead>\n",
       "    <tr style=\"text-align: right;\">\n",
       "      <th></th>\n",
       "      <th>Unnamed: 0</th>\n",
       "      <th>author</th>\n",
       "      <th>domain</th>\n",
       "      <th>num_comments</th>\n",
       "      <th>score</th>\n",
       "      <th>subreddit</th>\n",
       "      <th>timestamp</th>\n",
       "      <th>title</th>\n",
       "    </tr>\n",
       "  </thead>\n",
       "  <tbody>\n",
       "    <tr>\n",
       "      <td>0</td>\n",
       "      <td>0</td>\n",
       "      <td>drak0bsidian</td>\n",
       "      <td>cnn.com</td>\n",
       "      <td>0</td>\n",
       "      <td>1</td>\n",
       "      <td>nottheonion</td>\n",
       "      <td>1554663925</td>\n",
       "      <td>suspected rhino poacher is killed by an elepha...</td>\n",
       "    </tr>\n",
       "    <tr>\n",
       "      <td>1</td>\n",
       "      <td>1</td>\n",
       "      <td>somefaces</td>\n",
       "      <td>nypost.com</td>\n",
       "      <td>1</td>\n",
       "      <td>1</td>\n",
       "      <td>nottheonion</td>\n",
       "      <td>1554663648</td>\n",
       "      <td>taliban commander turns himself in to collect ...</td>\n",
       "    </tr>\n",
       "    <tr>\n",
       "      <td>2</td>\n",
       "      <td>2</td>\n",
       "      <td>Sombez</td>\n",
       "      <td>nytimes.com</td>\n",
       "      <td>1</td>\n",
       "      <td>1</td>\n",
       "      <td>nottheonion</td>\n",
       "      <td>1554663558</td>\n",
       "      <td>rhino poacher killed by elephant and eaten by ...</td>\n",
       "    </tr>\n",
       "    <tr>\n",
       "      <td>3</td>\n",
       "      <td>3</td>\n",
       "      <td>Bayou-Maharaja</td>\n",
       "      <td>ktoo.org</td>\n",
       "      <td>0</td>\n",
       "      <td>1</td>\n",
       "      <td>nottheonion</td>\n",
       "      <td>1554662778</td>\n",
       "      <td>young shoves female reporter on way to violenc...</td>\n",
       "    </tr>\n",
       "    <tr>\n",
       "      <td>4</td>\n",
       "      <td>4</td>\n",
       "      <td>phantommaster1999</td>\n",
       "      <td>buzz.ie</td>\n",
       "      <td>1</td>\n",
       "      <td>1</td>\n",
       "      <td>nottheonion</td>\n",
       "      <td>1554661988</td>\n",
       "      <td>poacher hunting rhinos trampled to death by el...</td>\n",
       "    </tr>\n",
       "  </tbody>\n",
       "</table>\n",
       "</div>"
      ],
      "text/plain": [
       "   Unnamed: 0             author       domain  num_comments  score  \\\n",
       "0           0       drak0bsidian      cnn.com             0      1   \n",
       "1           1          somefaces   nypost.com             1      1   \n",
       "2           2             Sombez  nytimes.com             1      1   \n",
       "3           3     Bayou-Maharaja     ktoo.org             0      1   \n",
       "4           4  phantommaster1999      buzz.ie             1      1   \n",
       "\n",
       "     subreddit   timestamp                                              title  \n",
       "0  nottheonion  1554663925  suspected rhino poacher is killed by an elepha...  \n",
       "1  nottheonion  1554663648  taliban commander turns himself in to collect ...  \n",
       "2  nottheonion  1554663558  rhino poacher killed by elephant and eaten by ...  \n",
       "3  nottheonion  1554662778  young shoves female reporter on way to violenc...  \n",
       "4  nottheonion  1554661988  poacher hunting rhinos trampled to death by el...  "
      ]
     },
     "execution_count": 89,
     "metadata": {},
     "output_type": "execute_result"
    }
   ],
   "source": [
    "# Call `clean_data(dataframe)` function\n",
    "clean_data(df_not_onion)"
   ]
  },
  {
   "cell_type": "markdown",
   "metadata": {},
   "source": [
    "### Check Nulls"
   ]
  },
  {
   "cell_type": "code",
   "execution_count": 90,
   "metadata": {
    "scrolled": true
   },
   "outputs": [
    {
     "data": {
      "text/html": [
       "<div>\n",
       "<style scoped>\n",
       "    .dataframe tbody tr th:only-of-type {\n",
       "        vertical-align: middle;\n",
       "    }\n",
       "\n",
       "    .dataframe tbody tr th {\n",
       "        vertical-align: top;\n",
       "    }\n",
       "\n",
       "    .dataframe thead th {\n",
       "        text-align: right;\n",
       "    }\n",
       "</style>\n",
       "<table border=\"1\" class=\"dataframe\">\n",
       "  <thead>\n",
       "    <tr style=\"text-align: right;\">\n",
       "      <th></th>\n",
       "      <th>TheOnion</th>\n",
       "      <th>notheonion</th>\n",
       "    </tr>\n",
       "  </thead>\n",
       "  <tbody>\n",
       "    <tr>\n",
       "      <td>Unnamed: 0</td>\n",
       "      <td>0</td>\n",
       "      <td>0</td>\n",
       "    </tr>\n",
       "    <tr>\n",
       "      <td>author</td>\n",
       "      <td>0</td>\n",
       "      <td>0</td>\n",
       "    </tr>\n",
       "    <tr>\n",
       "      <td>domain</td>\n",
       "      <td>0</td>\n",
       "      <td>0</td>\n",
       "    </tr>\n",
       "    <tr>\n",
       "      <td>num_comments</td>\n",
       "      <td>0</td>\n",
       "      <td>0</td>\n",
       "    </tr>\n",
       "    <tr>\n",
       "      <td>score</td>\n",
       "      <td>0</td>\n",
       "      <td>0</td>\n",
       "    </tr>\n",
       "    <tr>\n",
       "      <td>subreddit</td>\n",
       "      <td>0</td>\n",
       "      <td>0</td>\n",
       "    </tr>\n",
       "    <tr>\n",
       "      <td>timestamp</td>\n",
       "      <td>0</td>\n",
       "      <td>0</td>\n",
       "    </tr>\n",
       "    <tr>\n",
       "      <td>title</td>\n",
       "      <td>0</td>\n",
       "      <td>0</td>\n",
       "    </tr>\n",
       "  </tbody>\n",
       "</table>\n",
       "</div>"
      ],
      "text/plain": [
       "              TheOnion  notheonion\n",
       "Unnamed: 0           0           0\n",
       "author               0           0\n",
       "domain               0           0\n",
       "num_comments         0           0\n",
       "score                0           0\n",
       "subreddit            0           0\n",
       "timestamp            0           0\n",
       "title                0           0"
      ]
     },
     "execution_count": 90,
     "metadata": {},
     "output_type": "execute_result"
    }
   ],
   "source": [
    "# Create a DataFrame to check nulls\n",
    "pd.DataFrame([df_onion.isnull().sum(),df_not_onion.isnull().sum()], index=[\"TheOnion\",\"notheonion\"]).T"
   ]
  },
  {
   "cell_type": "markdown",
   "metadata": {},
   "source": [
    "# Exploratory Data Analysis (EDA)"
   ]
  },
  {
   "cell_type": "markdown",
   "metadata": {},
   "source": [
    "### Date Range of Scraped Posts"
   ]
  },
  {
   "cell_type": "code",
   "execution_count": 91,
   "metadata": {},
   "outputs": [
    {
     "name": "stdout",
     "output_type": "stream",
     "text": [
      "TheOnion start date: 2013-10-04 00:38:59\n",
      "TheOnion end date: 2019-04-07 17:37:02\n",
      "nottheonion start date: 2019-01-25 01:00:09\n",
      "nottheonion end date: 2019-04-07 19:05:25\n"
     ]
    }
   ],
   "source": [
    "# Convert Unix Timestamp to Datetime\n",
    "df_onion['timestamp'] = pd.to_datetime(df_onion['timestamp'], unit='s')\n",
    "df_not_onion['timestamp'] = pd.to_datetime(df_not_onion['timestamp'], unit='s')\n",
    "\n",
    "# Show date-range of posts scraped from r/TheOnion and r/nottheonion\n",
    "print(\"TheOnion start date:\", df_onion['timestamp'].min())\n",
    "print(\"TheOnion end date:\", df_onion['timestamp'].max())\n",
    "print(\"nottheonion start date:\", df_not_onion['timestamp'].min())\n",
    "print(\"nottheonion end date:\", df_not_onion['timestamp'].max())"
   ]
  },
  {
   "cell_type": "code",
   "execution_count": 92,
   "metadata": {},
   "outputs": [
    {
     "data": {
      "text/plain": [
       "0       2019-04-07 17:37:02\n",
       "1       2019-04-07 01:22:29\n",
       "2       2019-04-06 21:21:40\n",
       "3       2019-04-06 14:01:51\n",
       "4       2019-04-05 22:01:48\n",
       "                ...        \n",
       "14863   2013-11-06 22:58:52\n",
       "14864   2013-10-07 16:05:01\n",
       "14865   2013-10-05 17:33:51\n",
       "14866   2013-10-04 00:53:59\n",
       "14867   2013-10-04 00:38:59\n",
       "Name: timestamp, Length: 14189, dtype: datetime64[ns]"
      ]
     },
     "execution_count": 92,
     "metadata": {},
     "output_type": "execute_result"
    }
   ],
   "source": [
    "df_onion['timestamp']"
   ]
  },
  {
   "cell_type": "markdown",
   "metadata": {},
   "source": [
    "### Bar Plot Function"
   ]
  },
  {
   "cell_type": "code",
   "execution_count": 93,
   "metadata": {},
   "outputs": [],
   "source": [
    "def bar_plot(x, y, title, color):    \n",
    "    \n",
    "    # Set up barplot \n",
    "    plt.figure(figsize=(9,5))\n",
    "    g=sns.barplot(x, y, color = color)    \n",
    "    ax=g\n",
    "\n",
    "    # Label the graph\n",
    "    plt.title(title, fontsize = 15)\n",
    "    plt.xticks(fontsize = 10)\n",
    "\n",
    "    # Enable bar values\n",
    "    # Code modified from http://robertmitchellv.com/blog-bar-chart-annotations-pandas-mpl.html\n",
    "    # create a list to collect the plt.patches data\n",
    "    totals = []\n",
    "\n",
    "    # find the values and append to list\n",
    "    for p in ax.patches:\n",
    "        totals.append(p.get_width())\n",
    "\n",
    "    # set individual bar lables using above list\n",
    "    total = sum(totals)\n",
    "\n",
    "    # set individual bar lables using above list\n",
    "    for p in ax.patches:\n",
    "        # get_width pulls left or right; get_y pushes up or down\n",
    "        ax.text(p.get_width()+.3, p.get_y()+.38, \\\n",
    "                int(p.get_width()), fontsize=10)"
   ]
  },
  {
   "cell_type": "markdown",
   "metadata": {},
   "source": [
    "### r/TheOnion: Most Active Authors"
   ]
  },
  {
   "cell_type": "code",
   "execution_count": 95,
   "metadata": {},
   "outputs": [
    {
     "data": {
      "image/png": "[encoded data removed]",
      "text/plain": [
       "<Figure size 648x360 with 1 Axes>"
      ]
     },
     "metadata": {
      "image/png": {
       "height": 320,
       "width": 637
      },
      "needs_background": "light"
     },
     "output_type": "display_data"
    }
   ],
   "source": [
    "# Set x values: # of posts \n",
    "df_onion_authors = df_onion['author'].value_counts() \n",
    "df_onion_authors = df_onion_authors[df_onion_authors > 100].sort_values(ascending=False)\n",
    "\n",
    "# Set y values: Authors \n",
    "df_onion_authors_index = list(df_onion_authors.index)\n",
    "\n",
    "# Call function\n",
    "bar_plot(df_onion_authors.values, df_onion_authors_index, 'Most Active Authors: r/TheOnion', 'r') "
   ]
  },
  {
   "cell_type": "markdown",
   "metadata": {},
   "source": [
    "r/TheOnion has only 95k subscribers, but 14 authors shared over 100 posts, the most being 4,113 posts."
   ]
  },
  {
   "cell_type": "markdown",
   "metadata": {},
   "source": [
    "### r/nottheonion: Most Active Authors"
   ]
  },
  {
   "cell_type": "code",
   "execution_count": 96,
   "metadata": {},
   "outputs": [
    {
     "data": {
      "image/png": "[encoded data removed]",
      "text/plain": [
       "<Figure size 648x360 with 1 Axes>"
      ]
     },
     "metadata": {
      "image/png": {
       "height": 320,
       "width": 600
      },
      "needs_background": "light"
     },
     "output_type": "display_data"
    }
   ],
   "source": [
    "# Set x values: # of posts\n",
    "df_not_onion_authors = df_not_onion['author'].value_counts() \n",
    "df_not_onion_authors = df_not_onion_authors[df_not_onion_authors > 100].sort_values(ascending=False)\n",
    "\n",
    "# Set y values: Authors\n",
    "df_not_onion_authors_index = list(df_not_onion_authors.index)\n",
    "\n",
    "# Call function\n",
    "bar_plot(df_not_onion_authors.values, df_not_onion_authors_index, 'Most Active Authors: r/nottheonion','b') "
   ]
  },
  {
   "cell_type": "markdown",
   "metadata": {},
   "source": [
    "r/nottheonion has 15m subscribers, and only 3 authors shared over 100 posts.   "
   ]
  },
  {
   "cell_type": "markdown",
   "metadata": {},
   "source": [
    "### r/TheOnion: Most Referenced Domains"
   ]
  },
  {
   "cell_type": "code",
   "execution_count": 98,
   "metadata": {},
   "outputs": [
    {
     "data": {
      "image/png": "[encoded data removed]",
      "text/plain": [
       "<Figure size 648x360 with 1 Axes>"
      ]
     },
     "metadata": {
      "image/png": {
       "height": 320,
       "width": 632
      },
      "needs_background": "light"
     },
     "output_type": "display_data"
    }
   ],
   "source": [
    "# Set x values: # of posts\n",
    "df_onion_domain = df_onion['domain'].value_counts() \n",
    "df_onion_domain = df_onion_domain.sort_values(ascending=False).head(5)\n",
    "\n",
    "# Set y values: Domains \n",
    "df_onion_domain_index = list(df_onion_domain.index)\n",
    "\n",
    "# Call function\n",
    "bar_plot(df_onion_domain.values, df_onion_domain_index, 'Most Referenced Domains: r/TheOnion','r') "
   ]
  },
  {
   "cell_type": "markdown",
   "metadata": {},
   "source": [
    "Unsurprisingly, the most referenced domains from r/TheOnion are from The Onion. This subreddit allows articles from other news satire sites to be shared here as well."
   ]
  },
  {
   "cell_type": "markdown",
   "metadata": {},
   "source": [
    "### r/nottheonion: Most Referenced Domains"
   ]
  },
  {
   "cell_type": "code",
   "execution_count": 99,
   "metadata": {},
   "outputs": [
    {
     "data": {
      "image/png": "[encoded data removed]",
      "text/plain": [
       "<Figure size 648x360 with 1 Axes>"
      ]
     },
     "metadata": {
      "image/png": {
       "height": 320,
       "width": 609
      },
      "needs_background": "light"
     },
     "output_type": "display_data"
    }
   ],
   "source": [
    "# Set x values: # of posts greater than 100\n",
    "df_nonion_domain = df_not_onion['domain'].value_counts() \n",
    "df_nonion_domain = df_nonion_domain.sort_values(ascending=False).head(5)\n",
    "\n",
    "# Set y values: Names of authors \n",
    "df_nonion_domain_index = list(df_nonion_domain.index)\n",
    "\n",
    "# Call function\n",
    "bar_plot(df_nonion_domain.values, df_nonion_domain_index, 'Most Referenced Domains: r/nottheonion','b') "
   ]
  },
  {
   "cell_type": "markdown",
   "metadata": {},
   "source": [
    "Also unsurprisingly, foxnews.com is the most referenced domain in r/nottheonion! "
   ]
  },
  {
   "cell_type": "markdown",
   "metadata": {},
   "source": [
    "# Natural Language Processing (NLP)"
   ]
  },
  {
   "cell_type": "markdown",
   "metadata": {},
   "source": [
    "Here I use Count Vectorizer to continue my EDA and explore the most used words and combinations of words from each subreddit. "
   ]
  },
  {
   "cell_type": "markdown",
   "metadata": {},
   "source": [
    "### Concatenate DataFrames"
   ]
  },
  {
   "cell_type": "code",
   "execution_count": 100,
   "metadata": {},
   "outputs": [
    {
     "data": {
      "text/html": [
       "<div>\n",
       "<style scoped>\n",
       "    .dataframe tbody tr th:only-of-type {\n",
       "        vertical-align: middle;\n",
       "    }\n",
       "\n",
       "    .dataframe tbody tr th {\n",
       "        vertical-align: top;\n",
       "    }\n",
       "\n",
       "    .dataframe thead th {\n",
       "        text-align: right;\n",
       "    }\n",
       "</style>\n",
       "<table border=\"1\" class=\"dataframe\">\n",
       "  <thead>\n",
       "    <tr style=\"text-align: right;\">\n",
       "      <th></th>\n",
       "      <th>subreddit</th>\n",
       "      <th>title</th>\n",
       "    </tr>\n",
       "  </thead>\n",
       "  <tbody>\n",
       "    <tr>\n",
       "      <td>0</td>\n",
       "      <td>TheOnion</td>\n",
       "      <td>jack nicholson banned from sitting courtside a...</td>\n",
       "    </tr>\n",
       "    <tr>\n",
       "      <td>1</td>\n",
       "      <td>TheOnion</td>\n",
       "      <td>nicoderm introduces new nicotine eye patch</td>\n",
       "    </tr>\n",
       "  </tbody>\n",
       "</table>\n",
       "</div>"
      ],
      "text/plain": [
       "  subreddit                                              title\n",
       "0  TheOnion  jack nicholson banned from sitting courtside a...\n",
       "1  TheOnion         nicoderm introduces new nicotine eye patch"
      ]
     },
     "execution_count": 100,
     "metadata": {},
     "output_type": "execute_result"
    }
   ],
   "source": [
    "# Combine df_onion & df_not_onion with only 'subreddit' (target) and 'title' (predictor) columns\n",
    "df = pd.concat([df_onion[['subreddit', 'title']], df_not_onion[['subreddit', 'title']]], axis=0)\n",
    "\n",
    "#Reset the index\n",
    "df = df.reset_index(drop=True)\n",
    "\n",
    "# Preview head of df to show 'TheOnion' titles appear\n",
    "df.head(2)"
   ]
  },
  {
   "cell_type": "code",
   "execution_count": 101,
   "metadata": {},
   "outputs": [
    {
     "data": {
      "text/html": [
       "<div>\n",
       "<style scoped>\n",
       "    .dataframe tbody tr th:only-of-type {\n",
       "        vertical-align: middle;\n",
       "    }\n",
       "\n",
       "    .dataframe tbody tr th {\n",
       "        vertical-align: top;\n",
       "    }\n",
       "\n",
       "    .dataframe thead th {\n",
       "        text-align: right;\n",
       "    }\n",
       "</style>\n",
       "<table border=\"1\" class=\"dataframe\">\n",
       "  <thead>\n",
       "    <tr style=\"text-align: right;\">\n",
       "      <th></th>\n",
       "      <th>subreddit</th>\n",
       "      <th>title</th>\n",
       "    </tr>\n",
       "  </thead>\n",
       "  <tbody>\n",
       "    <tr>\n",
       "      <td>26273</td>\n",
       "      <td>nottheonion</td>\n",
       "      <td>farming simulator starts up esports with k pri...</td>\n",
       "    </tr>\n",
       "    <tr>\n",
       "      <td>26274</td>\n",
       "      <td>nottheonion</td>\n",
       "      <td>mark zuckerberg killed goat with laser gun and...</td>\n",
       "    </tr>\n",
       "  </tbody>\n",
       "</table>\n",
       "</div>"
      ],
      "text/plain": [
       "         subreddit                                              title\n",
       "26273  nottheonion  farming simulator starts up esports with k pri...\n",
       "26274  nottheonion  mark zuckerberg killed goat with laser gun and..."
      ]
     },
     "execution_count": 101,
     "metadata": {},
     "output_type": "execute_result"
    }
   ],
   "source": [
    "# Preview head of df to show 'nottheonion' titles appear\n",
    "df.tail(2)"
   ]
  },
  {
   "cell_type": "markdown",
   "metadata": {},
   "source": [
    "### Binarize Target `subreddit`\n",
    " - `TheOnion`: 1\n",
    " - `nottheonion`: 0"
   ]
  },
  {
   "cell_type": "code",
   "execution_count": 102,
   "metadata": {
    "scrolled": true
   },
   "outputs": [
    {
     "name": "stdout",
     "output_type": "stream",
     "text": [
      "(26275, 2)\n"
     ]
    },
    {
     "data": {
      "text/html": [
       "<div>\n",
       "<style scoped>\n",
       "    .dataframe tbody tr th:only-of-type {\n",
       "        vertical-align: middle;\n",
       "    }\n",
       "\n",
       "    .dataframe tbody tr th {\n",
       "        vertical-align: top;\n",
       "    }\n",
       "\n",
       "    .dataframe thead th {\n",
       "        text-align: right;\n",
       "    }\n",
       "</style>\n",
       "<table border=\"1\" class=\"dataframe\">\n",
       "  <thead>\n",
       "    <tr style=\"text-align: right;\">\n",
       "      <th></th>\n",
       "      <th>subreddit</th>\n",
       "      <th>title</th>\n",
       "    </tr>\n",
       "  </thead>\n",
       "  <tbody>\n",
       "    <tr>\n",
       "      <td>0</td>\n",
       "      <td>1</td>\n",
       "      <td>jack nicholson banned from sitting courtside a...</td>\n",
       "    </tr>\n",
       "    <tr>\n",
       "      <td>1</td>\n",
       "      <td>1</td>\n",
       "      <td>nicoderm introduces new nicotine eye patch</td>\n",
       "    </tr>\n",
       "  </tbody>\n",
       "</table>\n",
       "</div>"
      ],
      "text/plain": [
       "   subreddit                                              title\n",
       "0          1  jack nicholson banned from sitting courtside a...\n",
       "1          1         nicoderm introduces new nicotine eye patch"
      ]
     },
     "execution_count": 102,
     "metadata": {},
     "output_type": "execute_result"
    }
   ],
   "source": [
    "# Replace `TheOnion` with 1, `nottheonion` with 0\n",
    "df[\"subreddit\"] = df[\"subreddit\"].map({\"nottheonion\": 0, \"TheOnion\": 1})\n",
    "\n",
    "# Print shape of df\n",
    "print(df.shape)\n",
    "\n",
    "# Preview head of df to show 1s\n",
    "df.head(2)"
   ]
  },
  {
   "cell_type": "code",
   "execution_count": 103,
   "metadata": {
    "scrolled": true
   },
   "outputs": [
    {
     "data": {
      "text/html": [
       "<div>\n",
       "<style scoped>\n",
       "    .dataframe tbody tr th:only-of-type {\n",
       "        vertical-align: middle;\n",
       "    }\n",
       "\n",
       "    .dataframe tbody tr th {\n",
       "        vertical-align: top;\n",
       "    }\n",
       "\n",
       "    .dataframe thead th {\n",
       "        text-align: right;\n",
       "    }\n",
       "</style>\n",
       "<table border=\"1\" class=\"dataframe\">\n",
       "  <thead>\n",
       "    <tr style=\"text-align: right;\">\n",
       "      <th></th>\n",
       "      <th>subreddit</th>\n",
       "      <th>title</th>\n",
       "    </tr>\n",
       "  </thead>\n",
       "  <tbody>\n",
       "    <tr>\n",
       "      <td>26273</td>\n",
       "      <td>0</td>\n",
       "      <td>farming simulator starts up esports with k pri...</td>\n",
       "    </tr>\n",
       "    <tr>\n",
       "      <td>26274</td>\n",
       "      <td>0</td>\n",
       "      <td>mark zuckerberg killed goat with laser gun and...</td>\n",
       "    </tr>\n",
       "  </tbody>\n",
       "</table>\n",
       "</div>"
      ],
      "text/plain": [
       "       subreddit                                              title\n",
       "26273          0  farming simulator starts up esports with k pri...\n",
       "26274          0  mark zuckerberg killed goat with laser gun and..."
      ]
     },
     "execution_count": 103,
     "metadata": {},
     "output_type": "execute_result"
    }
   ],
   "source": [
    "# Preview tail of df to show 0s\n",
    "df.tail(2)"
   ]
  },
  {
   "cell_type": "markdown",
   "metadata": {},
   "source": [
    "## Apply `CountVectorizer()`"
   ]
  },
  {
   "cell_type": "markdown",
   "metadata": {},
   "source": [
    "### Count Vectorize `df` where `subreddit` is `1`\n",
    " - `ngram_range = (1,1)`"
   ]
  },
  {
   "cell_type": "code",
   "execution_count": 104,
   "metadata": {},
   "outputs": [
    {
     "name": "stdout",
     "output_type": "stream",
     "text": [
      "(14189, 11906)\n"
     ]
    }
   ],
   "source": [
    "# Set variables to show TheOnion Titles\n",
    "mask_on = df['subreddit'] == 1\n",
    "df_onion_titles = df[mask_on]['title']\n",
    "\n",
    "# Instantiate a CountVectorizer\n",
    "cv1 = CountVectorizer(stop_words = 'english')\n",
    "\n",
    "# Fit and transform the vectorizer on our corpus\n",
    "onion_cvec = cv1.fit_transform(df_onion_titles)\n",
    "\n",
    "# Convert onion_cvec into a DataFrame\n",
    "onion_cvec_df = pd.DataFrame(onion_cvec.toarray(),\n",
    "                   columns=cv1.get_feature_names())\n",
    "\n",
    "# Inspect head of Onion Titles cvec\n",
    "print(onion_cvec_df.shape)"
   ]
  },
  {
   "cell_type": "markdown",
   "metadata": {},
   "source": [
    "### Count Vectorize `df` where `subreddit` is `0`\n",
    " - `ngram_range = (1,1)`"
   ]
  },
  {
   "cell_type": "code",
   "execution_count": 105,
   "metadata": {},
   "outputs": [
    {
     "name": "stdout",
     "output_type": "stream",
     "text": [
      "(12086, 14451)\n"
     ]
    }
   ],
   "source": [
    "# Set variables to show NotTheOnion Titles\n",
    "mask_no = df['subreddit'] == 0\n",
    "df_not_onion_titles = df[mask_no]['title']\n",
    "\n",
    "# Instantiate a CountVectorizer\n",
    "cv2 = CountVectorizer(stop_words = 'english')\n",
    "\n",
    "# Fit and transform the vectorizer on our corpus\n",
    "not_onion_cvec = cv2.fit_transform(df_not_onion_titles)\n",
    "\n",
    "# Convert onion_cvec into a DataFrame\n",
    "not_onion_cvec_df = pd.DataFrame(not_onion_cvec.toarray(),\n",
    "                   columns=cv2.get_feature_names())\n",
    "\n",
    "# Inspect head of Not Onion Titles cvec\n",
    "print(not_onion_cvec_df.shape)"
   ]
  },
  {
   "cell_type": "markdown",
   "metadata": {},
   "source": [
    "### r/TheOnion: Top 5 Unigrams "
   ]
  },
  {
   "cell_type": "code",
   "execution_count": 106,
   "metadata": {},
   "outputs": [
    {
     "data": {
      "image/png": "[encoded data removed]",
      "text/plain": [
       "<Figure size 648x360 with 1 Axes>"
      ]
     },
     "metadata": {
      "image/png": {
       "height": 320,
       "width": 554
      },
      "needs_background": "light"
     },
     "output_type": "display_data"
    }
   ],
   "source": [
    "# Set up variables to contain top 5 most used words in Onion\n",
    "onion_wc = onion_cvec_df.sum(axis = 0)\n",
    "onion_top_5 = onion_wc.sort_values(ascending=False).head(5)\n",
    "\n",
    "# Call function\n",
    "bar_plot(onion_top_5.values, onion_top_5.index, 'Top 5 unigrams on r/TheOnion','r') "
   ]
  },
  {
   "cell_type": "markdown",
   "metadata": {},
   "source": [
    "### r/nottheonion: Top 5 Unigrams"
   ]
  },
  {
   "cell_type": "code",
   "execution_count": 22,
   "metadata": {},
   "outputs": [
    {
     "data": {
      "image/png": "[encoded data removed]",
      "text/plain": [
       "<Figure size 648x360 with 1 Axes>"
      ]
     },
     "metadata": {
      "image/png": {
       "height": 320,
       "width": 561
      },
      "needs_background": "light"
     },
     "output_type": "display_data"
    }
   ],
   "source": [
    "# Set up variables to contain top 5 most used words in Onion\n",
    "nonion_wc = not_onion_cvec_df.sum(axis = 0)\n",
    "nonion_top_5 = nonion_wc.sort_values(ascending=False).head(5)\n",
    "\n",
    "# Call function\n",
    "bar_plot(nonion_top_5.values, nonion_top_5.index, 'Top 5 unigrams on r/nottheonion','b') "
   ]
  },
  {
   "cell_type": "markdown",
   "metadata": {},
   "source": [
    "### Common Unigrams between Top 5 in r/TheOnion & r/nottheonion"
   ]
  },
  {
   "cell_type": "code",
   "execution_count": 23,
   "metadata": {},
   "outputs": [
    {
     "data": {
      "text/plain": [
       "{'man', 'trump'}"
      ]
     },
     "execution_count": 23,
     "metadata": {},
     "output_type": "execute_result"
    }
   ],
   "source": [
    "# Create list of unique words in top five\n",
    "not_onion_5_set = set(nonion_top_5.index)\n",
    "onion_5_set = set(onion_top_5.index)\n",
    "\n",
    "# Return common words\n",
    "common_unigrams = onion_5_set.intersection(not_onion_5_set)\n",
    "common_unigrams"
   ]
  },
  {
   "cell_type": "markdown",
   "metadata": {},
   "source": [
    "### Count Vectorize `df` where `subreddit` is `1`\n",
    " - `ngram_range = (2,2)`"
   ]
  },
  {
   "cell_type": "code",
   "execution_count": 107,
   "metadata": {},
   "outputs": [
    {
     "name": "stdout",
     "output_type": "stream",
     "text": [
      "(14189, 34896)\n"
     ]
    }
   ],
   "source": [
    "# Set variables to show TheOnion Titles\n",
    "mask = df['subreddit'] == 1\n",
    "df_onion_titles = df[mask]['title']\n",
    "\n",
    "# Instantiate a CountVectorizer\n",
    "cv = CountVectorizer(stop_words = 'english', ngram_range=(2,2))\n",
    "\n",
    "# Fit and transform the vectorizer on our corpus\n",
    "onion_cvec = cv.fit_transform(df_onion_titles)\n",
    "\n",
    "# Convert onion_cvec into a DataFrame\n",
    "onion_cvec_df = pd.DataFrame(onion_cvec.toarray(),\n",
    "                   columns=cv.get_feature_names())\n",
    "\n",
    "# Inspect head of Onion Titles cvec\n",
    "print(onion_cvec_df.shape)"
   ]
  },
  {
   "cell_type": "markdown",
   "metadata": {},
   "source": [
    "### Count Vectorize `df` where `subreddit` is `0`\n",
    " - `ngram_range = (2,2)`"
   ]
  },
  {
   "cell_type": "code",
   "execution_count": 108,
   "metadata": {},
   "outputs": [
    {
     "name": "stdout",
     "output_type": "stream",
     "text": [
      "(12086, 58973)\n"
     ]
    }
   ],
   "source": [
    "# Set variables to show NotTheOnion Titles\n",
    "mask = df['subreddit'] == 0\n",
    "df_not_onion_titles = df[mask]['title']\n",
    "\n",
    "# Instantiate a CountVectorizer\n",
    "cv = CountVectorizer(stop_words = 'english', ngram_range=(2,2))\n",
    "\n",
    "# Fit and transform the vectorizer on our corpus\n",
    "not_onion_cvec = cv.fit_transform(df_not_onion_titles)\n",
    "\n",
    "# Convert onion_cvec into a DataFrame\n",
    "not_onion_cvec_df = pd.DataFrame(not_onion_cvec.toarray(),\n",
    "                   columns=cv.get_feature_names())\n",
    "\n",
    "# Inspect head of Not Onion Titles cvec\n",
    "print(not_onion_cvec_df.shape)"
   ]
  },
  {
   "cell_type": "markdown",
   "metadata": {},
   "source": [
    "### r/TheOnion: Top 5 Bigrams"
   ]
  },
  {
   "cell_type": "code",
   "execution_count": 109,
   "metadata": {},
   "outputs": [
    {
     "data": {
      "image/png": "[encoded data removed]",
      "text/plain": [
       "<Figure size 648x360 with 1 Axes>"
      ]
     },
     "metadata": {
      "image/png": {
       "height": 320,
       "width": 593
      },
      "needs_background": "light"
     },
     "output_type": "display_data"
    }
   ],
   "source": [
    "# Set up variables to contain top 5 most used bigrams in r/TheOnion\n",
    "onion_wc = onion_cvec_df.sum(axis = 0)\n",
    "onion_top_5 = onion_wc.sort_values(ascending=False).head(5)\n",
    "\n",
    "# Call function/\n",
    "bar_plot(onion_top_5.values, onion_top_5.index, 'Top 5 bigrams on r/TheOnion','r') "
   ]
  },
  {
   "cell_type": "markdown",
   "metadata": {},
   "source": [
    "### r/nottheonion: Top 5 Bigrams"
   ]
  },
  {
   "cell_type": "code",
   "execution_count": 110,
   "metadata": {},
   "outputs": [
    {
     "data": {
      "image/png": "[encoded data removed]",
      "text/plain": [
       "<Figure size 648x360 with 1 Axes>"
      ]
     },
     "metadata": {
      "image/png": {
       "height": 320,
       "width": 595
      },
      "needs_background": "light"
     },
     "output_type": "display_data"
    }
   ],
   "source": [
    "# Set up variables to contain top 5 most used bigrams in r/nottheonion\n",
    "nonion_wc = not_onion_cvec_df.sum(axis = 0)\n",
    "nonion_top_5 = nonion_wc.sort_values(ascending=False).head(5)\n",
    "\n",
    "# Call function\n",
    "bar_plot(nonion_top_5.values, nonion_top_5.index, 'Top 5 bigrams on r/nottheonion','b') "
   ]
  },
  {
   "cell_type": "markdown",
   "metadata": {},
   "source": [
    "### Common Bigrams between Top 5 in r/TheOnion & r/nottheonion"
   ]
  },
  {
   "cell_type": "code",
   "execution_count": 111,
   "metadata": {},
   "outputs": [
    {
     "data": {
      "text/plain": [
       "{'year old'}"
      ]
     },
     "execution_count": 111,
     "metadata": {},
     "output_type": "execute_result"
    }
   ],
   "source": [
    "not_onion_5_list = set(nonion_top_5.index)\n",
    "onion_5_list = set(onion_top_5.index)\n",
    "\n",
    "# Return common words\n",
    "common_bigrams = onion_5_list.intersection(not_onion_5_list)\n",
    "common_bigrams"
   ]
  },
  {
   "cell_type": "markdown",
   "metadata": {},
   "source": [
    "Take out `{'man', 'new', 'old', 'people', 'say', 'trump', 'woman', 'year'}` from dataset when modeling, since these words occur frequently in both subreddits. "
   ]
  },
  {
   "cell_type": "markdown",
   "metadata": {},
   "source": [
    "### Create custom `stop_words` to include common frequent words"
   ]
  },
  {
   "cell_type": "markdown",
   "metadata": {},
   "source": [
    "Referencing the common most-used words, add them to a customized `stop_words` list. "
   ]
  },
  {
   "cell_type": "code",
   "execution_count": 112,
   "metadata": {},
   "outputs": [],
   "source": [
    "# Create lists \n",
    "custom = stop_words.ENGLISH_STOP_WORDS\n",
    "custom = list(custom)\n",
    "common_unigrams = list(common_unigrams)\n",
    "common_bigrams = list(common_bigrams)\n",
    "\n",
    "# Append unigrams to list \n",
    "for i in common_unigrams:\n",
    "    custom.append(i)\n",
    "\n",
    "    \n",
    "# Append bigrams to list \n",
    "for i in common_bigrams:\n",
    "    split_words = i.split(\" \")\n",
    "    for word in split_words:\n",
    "        custom.append(word)"
   ]
  },
  {
   "cell_type": "markdown",
   "metadata": {},
   "source": [
    "# Modeling"
   ]
  },
  {
   "cell_type": "markdown",
   "metadata": {},
   "source": [
    "Here I conduct model-prep and use Pipeline and GridSearch to determine the most optimal model to run my data on. "
   ]
  },
  {
   "cell_type": "markdown",
   "metadata": {},
   "source": [
    "### Baseline Score"
   ]
  },
  {
   "cell_type": "code",
   "execution_count": 113,
   "metadata": {},
   "outputs": [
    {
     "data": {
      "text/plain": [
       "1    0.540019\n",
       "0    0.459981\n",
       "Name: subreddit, dtype: float64"
      ]
     },
     "execution_count": 113,
     "metadata": {},
     "output_type": "execute_result"
    }
   ],
   "source": [
    "# Baseline score\n",
    "df['subreddit'].value_counts(normalize=True)"
   ]
  },
  {
   "cell_type": "markdown",
   "metadata": {},
   "source": [
    "I expect my model to be better than 54%. The majority class is `1`, or, `TheOnion`. If the model is not better than 54%, I know the model is not performing well."
   ]
  },
  {
   "cell_type": "markdown",
   "metadata": {},
   "source": [
    "### Set `X` (predictor) and `y` (target) variables "
   ]
  },
  {
   "cell_type": "code",
   "execution_count": 114,
   "metadata": {},
   "outputs": [],
   "source": [
    "X = df['title']\n",
    "y = df['subreddit']"
   ]
  },
  {
   "cell_type": "markdown",
   "metadata": {},
   "source": [
    "### Train/Test Split"
   ]
  },
  {
   "cell_type": "code",
   "execution_count": 119,
   "metadata": {},
   "outputs": [],
   "source": [
    "X_train, X_test, y_train, y_test = train_test_split(X,\n",
    "                                                    y,\n",
    "                                                    random_state=42,\n",
    "                                                    stratify=y)"
   ]
  },
  {
   "cell_type": "markdown",
   "metadata": {},
   "source": [
    "### Model 1: CountVectorizer & Logistic Regression (Best Coefficient Interpretability)"
   ]
  },
  {
   "cell_type": "code",
   "execution_count": 120,
   "metadata": {},
   "outputs": [
    {
     "name": "stdout",
     "output_type": "stream",
     "text": [
      "Best score: 0.8531408629108276\n",
      "Train score 0.9618897797625089\n",
      "Test score 0.8652762977622165\n"
     ]
    },
    {
     "data": {
      "text/plain": [
       "{'cvec__ngram_range': (1, 1), 'cvec__stop_words': None, 'lr__C': 1}"
      ]
     },
     "execution_count": 120,
     "metadata": {},
     "output_type": "execute_result"
    }
   ],
   "source": [
    "pipe = Pipeline([('cvec', CountVectorizer()),    \n",
    "                 ('lr', LogisticRegression(solver='liblinear'))])\n",
    "\n",
    "# Tune GridSearchCV\n",
    "pipe_params = {'cvec__stop_words': [None, 'english', custom],\n",
    "               'cvec__ngram_range': [(1,1), (2,2), (1,3)],\n",
    "               'lr__C': [0.01, 1]}\n",
    "\n",
    "gs = GridSearchCV(pipe, param_grid=pipe_params, cv=3)\n",
    "gs.fit(X_train, y_train);\n",
    "print(\"Best score:\", gs.best_score_)\n",
    "print(\"Train score\", gs.score(X_train, y_train))\n",
    "print(\"Test score\", gs.score(X_test, y_test))\n",
    "\n",
    "gs.best_params_"
   ]
  },
  {
   "cell_type": "markdown",
   "metadata": {},
   "source": [
    "Throughout my model testing, none of the stop_word lists were chosen as a best parameter. So from here on out, I omit them from my parameter selection. Additionally, while the model is overfit, I am optimizing to get the highest accuracy score in my test set. "
   ]
  },
  {
   "cell_type": "markdown",
   "metadata": {},
   "source": [
    "### Model 2: TfidfVectorize & Logistic Regression"
   ]
  },
  {
   "cell_type": "code",
   "execution_count": 34,
   "metadata": {},
   "outputs": [
    {
     "name": "stdout",
     "output_type": "stream",
     "text": [
      "Best score: 0.8438543665923811\n",
      "Train score 0.911651273723739\n",
      "Test score 0.8558380270969707\n"
     ]
    },
    {
     "data": {
      "text/plain": [
       "{'lr__C': 1,\n",
       " 'tvect__max_df': 0.75,\n",
       " 'tvect__min_df': 3,\n",
       " 'tvect__ngram_range': (1, 3)}"
      ]
     },
     "execution_count": 34,
     "metadata": {},
     "output_type": "execute_result"
    }
   ],
   "source": [
    "pipe = Pipeline([('tvect', TfidfVectorizer()),    \n",
    "                 ('lr', LogisticRegression(solver='liblinear'))])\n",
    "\n",
    "# Tune GridSearchCV\n",
    "pipe_params = {'tvect__max_df': [.75, .98, 1.0],\n",
    "               'tvect__min_df': [2, 3, 5],\n",
    "               'tvect__ngram_range': [(1,1), (1,2), (1,3)],\n",
    "               'lr__C': [1]}\n",
    "\n",
    "gs = GridSearchCV(pipe, param_grid=pipe_params, cv=3)\n",
    "gs.fit(X_train, y_train);\n",
    "print(\"Best score:\", gs.best_score_)\n",
    "print(\"Train score\", gs.score(X_train, y_train))\n",
    "print(\"Test score\", gs.score(X_test, y_test))\n",
    "\n",
    "gs.best_params_"
   ]
  },
  {
   "cell_type": "markdown",
   "metadata": {},
   "source": [
    "This model is also overfit. However, Model 1 performed with a better test score when comparing Logistic Regression models. "
   ]
  },
  {
   "cell_type": "markdown",
   "metadata": {},
   "source": [
    "### Model 3: CountVectorizer & MultinomialNB (Best Accuracy Score)"
   ]
  },
  {
   "cell_type": "code",
   "execution_count": 35,
   "metadata": {},
   "outputs": [
    {
     "name": "stdout",
     "output_type": "stream",
     "text": [
      "Best score: 0.8879019320005188\n",
      "Train score 0.9970059880239521\n",
      "Test score 0.8972446338864363\n"
     ]
    },
    {
     "data": {
      "text/plain": [
       "{'cvec__ngram_range': (1, 3), 'nb__alpha': 0.36}"
      ]
     },
     "execution_count": 35,
     "metadata": {},
     "output_type": "execute_result"
    }
   ],
   "source": [
    "pipe = Pipeline([('cvec', CountVectorizer()),    \n",
    "                 ('nb', MultinomialNB())])\n",
    "\n",
    "# Tune GridSearchCV\n",
    "pipe_params = {'cvec__ngram_range': [(1,1),(1,3)],\n",
    "               'nb__alpha': [.36, .6]}\n",
    "\n",
    "gs = GridSearchCV(pipe, param_grid=pipe_params, cv=3)\n",
    "gs.fit(X_train, y_train);\n",
    "print(\"Best score:\", gs.best_score_)\n",
    "print(\"Train score\", gs.score(X_train, y_train))\n",
    "print(\"Test score\", gs.score(X_test, y_test))\n",
    "\n",
    "gs.best_params_"
   ]
  },
  {
   "cell_type": "markdown",
   "metadata": {},
   "source": [
    "The model is overfit, but as I mentioned, I am optimizing for accuracy. I want to ensure that all predictions are correct. That is, all posts from r/TheOnion must be classified as being from the subreddit r/TheOnion, and all posts from r/nottheonion must be classified as being from the subreddit r/nottheonion. This model gave me my best test accuracy score. "
   ]
  },
  {
   "cell_type": "markdown",
   "metadata": {},
   "source": [
    "### Model 4: TfidfVectorizer & MultinomialNB "
   ]
  },
  {
   "cell_type": "code",
   "execution_count": 36,
   "metadata": {},
   "outputs": [
    {
     "name": "stdout",
     "output_type": "stream",
     "text": [
      "Best score: 0.8603969818135614\n",
      "Train score 0.9204810717547955\n",
      "Test score 0.8651240675901963\n"
     ]
    },
    {
     "data": {
      "text/plain": [
       "{'nb__alpha': 0.1,\n",
       " 'tvect__max_df': 0.75,\n",
       " 'tvect__min_df': 4,\n",
       " 'tvect__ngram_range': (1, 2)}"
      ]
     },
     "execution_count": 36,
     "metadata": {},
     "output_type": "execute_result"
    }
   ],
   "source": [
    "pipe = Pipeline([('tvect', TfidfVectorizer()),    \n",
    "                 ('nb', MultinomialNB())])\n",
    "\n",
    "# Tune GridSearchCV\n",
    "pipe_params = {'tvect__max_df': [.75, .98],\n",
    "               'tvect__min_df': [4, 5],\n",
    "               'tvect__ngram_range': [(1,2), (1,3)],\n",
    "               'nb__alpha': [0.1, 1]}\n",
    "\n",
    "gs = GridSearchCV(pipe, param_grid=pipe_params, cv=5)\n",
    "gs.fit(X_train, y_train);\n",
    "print(\"Best score:\", gs.best_score_)\n",
    "print(\"Train score\", gs.score(X_train, y_train))\n",
    "print(\"Test score\", gs.score(X_test, y_test))\n",
    "\n",
    "gs.best_params_"
   ]
  },
  {
   "cell_type": "markdown",
   "metadata": {},
   "source": [
    "This model is overfit. When comparing test scores of my MultinomialNB models, Model 3 performs better."
   ]
  },
  {
   "cell_type": "markdown",
   "metadata": {},
   "source": [
    "# Best Models "
   ]
  },
  {
   "cell_type": "markdown",
   "metadata": {},
   "source": [
    "In this section, I take my two optimal models and run them. The first model, CountVectorizer & MultinomialNB, will be used to convey a confusion matrix which will show all evaluation scores. The second model, CountVectorizer & Logistic Regression, will be used to interpret my coefficients."
   ]
  },
  {
   "cell_type": "markdown",
   "metadata": {},
   "source": [
    "### CountVectorizer & MultinomialNB: Best Score"
   ]
  },
  {
   "cell_type": "code",
   "execution_count": 37,
   "metadata": {},
   "outputs": [
    {
     "name": "stdout",
     "output_type": "stream",
     "text": [
      "0.8972446338864363\n"
     ]
    }
   ],
   "source": [
    "#Instantiate the classifier and vectorizer\n",
    "nb = MultinomialNB(alpha = 0.36)\n",
    "cvec = CountVectorizer(ngram_range= (1, 3))\n",
    "\n",
    "# Fit and transform the vectorizor\n",
    "cvec.fit(X_train)\n",
    "\n",
    "Xcvec_train = cvec.transform(X_train)\n",
    "Xcvec_test = cvec.transform(X_test)\n",
    "\n",
    "# Fit the classifier\n",
    "nb.fit(Xcvec_train,y_train)\n",
    "\n",
    "# Create the predictions for Y training data\n",
    "preds = nb.predict(Xcvec_test)\n",
    "\n",
    "print(nb.score(Xcvec_test, y_test))"
   ]
  },
  {
   "cell_type": "markdown",
   "metadata": {},
   "source": [
    "### Confusion Matrix"
   ]
  },
  {
   "cell_type": "code",
   "execution_count": 38,
   "metadata": {},
   "outputs": [
    {
     "data": {
      "text/plain": [
       "array([[2701,  321],\n",
       "       [ 354, 3193]], dtype=int64)"
      ]
     },
     "execution_count": 38,
     "metadata": {},
     "output_type": "execute_result"
    }
   ],
   "source": [
    "# Create a confusion matrix\n",
    "cnf_matrix = metrics.confusion_matrix(y_test, preds)\n",
    "cnf_matrix"
   ]
  },
  {
   "cell_type": "code",
   "execution_count": 39,
   "metadata": {},
   "outputs": [
    {
     "data": {
      "text/plain": [
       "Text(0.5, 257.44, 'Predicted label')"
      ]
     },
     "execution_count": 39,
     "metadata": {},
     "output_type": "execute_result"
    },
    {
     "data": {
      "image/png": "[encoded data removed]",
      "text/plain": [
       "<Figure size 432x288 with 2 Axes>"
      ]
     },
     "metadata": {
      "image/png": {
       "height": 307,
       "width": 423
      },
      "needs_background": "light"
     },
     "output_type": "display_data"
    }
   ],
   "source": [
    "# Code from https://www.datacamp.com/community/tutorials/understanding-logistic-regression-python\n",
    "\n",
    "# name  of classes\n",
    "class_names=[0,1] \n",
    "\n",
    "# Set fig and axes \n",
    "fig, ax = plt.subplots()\n",
    "tick_marks = np.arange(len(class_names))\n",
    "plt.xticks(tick_marks, class_names)\n",
    "plt.yticks(tick_marks, class_names)\n",
    "\n",
    "# Create heatmap\n",
    "sns.heatmap(pd.DataFrame(cnf_matrix), annot=True, cmap=\"YlGnBu\" ,fmt='g')\n",
    "ax.xaxis.set_label_position(\"top\")\n",
    "plt.tight_layout()\n",
    "plt.title('Confusion matrix', y=1.1)\n",
    "plt.ylabel('Actual label')\n",
    "plt.xlabel('Predicted label')"
   ]
  },
  {
   "cell_type": "code",
   "execution_count": 40,
   "metadata": {},
   "outputs": [],
   "source": [
    "# Assign True Neg, False Pos, False Neg, True Pos variables\n",
    "cnf_matrix = np.array(cnf_matrix).tolist()\n",
    "\n",
    "tn_fp, fn_tp = cnf_matrix\n",
    "\n",
    "tn, fp = tn_fp\n",
    "fn, tp = fn_tp"
   ]
  },
  {
   "cell_type": "code",
   "execution_count": 41,
   "metadata": {},
   "outputs": [
    {
     "name": "stdout",
     "output_type": "stream",
     "text": [
      "Accuracy: 89.72 %\n",
      "Precision: 90.87 %\n",
      "Recall: 90.02 %\n",
      "Specificity: 89.38 %\n",
      "Misclassification Rate: 11.11 %\n"
     ]
    }
   ],
   "source": [
    "# Print Scores \n",
    "\n",
    "print(\"Accuracy:\",round(metrics.accuracy_score(y_test, preds)*100, 2),'%')\n",
    "print(\"Precision:\",round(metrics.precision_score(y_test, preds)*100, 2), '%')\n",
    "print(\"Recall:\",round(metrics.recall_score(y_test, preds)*100, 2), '%')\n",
    "print(\"Specificity:\", round((tn/(tn+fp))*100, 2), '%')\n",
    "print(\"Misclassification Rate:\", round((fp+fn)/(tn+fp+fn+tn)*100, 2), '%')"
   ]
  },
  {
   "cell_type": "markdown",
   "metadata": {},
   "source": [
    "### CountVectorizer & Logistic Regression: Best Coefficient Interpretability"
   ]
  },
  {
   "cell_type": "code",
   "execution_count": 42,
   "metadata": {},
   "outputs": [],
   "source": [
    "# Customize stop_words to include `onion` so that it doesn't appear\n",
    "# in coefficients \n",
    "\n",
    "stop_words_onion = stop_words.ENGLISH_STOP_WORDS\n",
    "stop_words_onion = list(stop_words_onion)\n",
    "stop_words_onion.append('onion')"
   ]
  },
  {
   "cell_type": "code",
   "execution_count": 43,
   "metadata": {},
   "outputs": [
    {
     "name": "stdout",
     "output_type": "stream",
     "text": [
      "0.8552291064088903\n"
     ]
    }
   ],
   "source": [
    "#Instantiate the classifier and vectorizer\n",
    "lr = LogisticRegression(C = 1.0, solver='liblinear')\n",
    "cvec2 = CountVectorizer(stop_words = stop_words_onion)\n",
    "\n",
    "# Fit and transform the vectorizor\n",
    "cvec2.fit(X_train)\n",
    "\n",
    "Xcvec2_train = cvec2.transform(X_train)\n",
    "Xcvec2_test = cvec2.transform(X_test)\n",
    "\n",
    "# Fit the classifier\n",
    "lr.fit(Xcvec2_train,y_train)\n",
    "\n",
    "# Create the predictions for Y training data\n",
    "lr_preds = lr.predict(Xcvec2_test)\n",
    "\n",
    "print(lr.score(Xcvec2_test, y_test))"
   ]
  },
  {
   "cell_type": "markdown",
   "metadata": {},
   "source": [
    "### Coefficient Analysis"
   ]
  },
  {
   "cell_type": "code",
   "execution_count": 44,
   "metadata": {},
   "outputs": [
    {
     "data": {
      "image/png": "[encoded data removed]",
      "text/plain": [
       "<Figure size 576x432 with 1 Axes>"
      ]
     },
     "metadata": {
      "image/png": {
       "height": 406,
       "width": 530
      },
      "needs_background": "light"
     },
     "output_type": "display_data"
    }
   ],
   "source": [
    "# Create list of logistic regression coefficients \n",
    "lr_coef = np.array(lr.coef_).tolist()\n",
    "lr_coef = lr_coef[0]\n",
    "\n",
    "# create dataframe from lasso coef\n",
    "lr_coef = pd.DataFrame(np.round_(lr_coef, decimals=3), \n",
    "cvec2.get_feature_names(), columns = [\"penalized_regression_coefficients\"])\n",
    "\n",
    "# sort the values from high to low\n",
    "lr_coef = lr_coef.sort_values(by = 'penalized_regression_coefficients', \n",
    "ascending = False)\n",
    "\n",
    "# Jasmine changing things up here on out! Top half not mine. \n",
    "# create best and worst performing lasso coef dataframes\n",
    "df_head = lr_coef.head(10)\n",
    "df_tail = lr_coef.tail(10)\n",
    "\n",
    "# merge back together\n",
    "df_merged = pd.concat([df_head, df_tail], axis=0)\n",
    "\n",
    "# plot the sorted dataframe\n",
    "fig, ax = plt.subplots()\n",
    "fig.set_size_inches(8, 6)\n",
    "fig.suptitle('Coefficients!', size=14)\n",
    "ax = sns.barplot(x = 'penalized_regression_coefficients', y= df_merged.index, \n",
    "data=df_merged)\n",
    "ax.set(xlabel='Penalized Regression Coefficients')\n",
    "plt.tight_layout(pad=3, w_pad=0, h_pad=0);"
   ]
  },
  {
   "cell_type": "code",
   "execution_count": 45,
   "metadata": {},
   "outputs": [
    {
     "name": "stdout",
     "output_type": "stream",
     "text": [
      "The word that contributes the most positively to being from r/TheOnion is incredible followed by questions and heartbreaking .\n",
      "-----------------------------------\n",
      "The word that contributes the most positively to being from r/nottheonion is australia followed by title and florida .\n"
     ]
    }
   ],
   "source": [
    "print(\"The word that contributes the most positively to being from r/TheOnion is\", \n",
    "      df_merged.index[0], \"followed by\", \n",
    "      df_merged.index[1], \"and\",\n",
    "      df_merged.index[2],\".\")\n",
    "\n",
    "print(\"-----------------------------------\")\n",
    "\n",
    "print(\"The word that contributes the most positively to being from r/nottheonion is\", \n",
    "      df_merged.index[-1], \"followed by\", \n",
    "      df_merged.index[-2], \"and\",\n",
    "      df_merged.index[-3],\".\")"
   ]
  },
  {
   "cell_type": "code",
   "execution_count": 46,
   "metadata": {},
   "outputs": [
    {
     "data": {
      "text/html": [
       "<div>\n",
       "<style scoped>\n",
       "    .dataframe tbody tr th:only-of-type {\n",
       "        vertical-align: middle;\n",
       "    }\n",
       "\n",
       "    .dataframe tbody tr th {\n",
       "        vertical-align: top;\n",
       "    }\n",
       "\n",
       "    .dataframe thead th {\n",
       "        text-align: right;\n",
       "    }\n",
       "</style>\n",
       "<table border=\"1\" class=\"dataframe\">\n",
       "  <thead>\n",
       "    <tr style=\"text-align: right;\">\n",
       "      <th></th>\n",
       "      <th>penalized_regression_coefficients</th>\n",
       "      <th>exp</th>\n",
       "    </tr>\n",
       "  </thead>\n",
       "  <tbody>\n",
       "    <tr>\n",
       "      <td>incredible</td>\n",
       "      <td>2.334</td>\n",
       "      <td>10.319136</td>\n",
       "    </tr>\n",
       "    <tr>\n",
       "      <td>questions</td>\n",
       "      <td>2.166</td>\n",
       "      <td>8.723321</td>\n",
       "    </tr>\n",
       "    <tr>\n",
       "      <td>heartbreaking</td>\n",
       "      <td>2.079</td>\n",
       "      <td>7.996468</td>\n",
       "    </tr>\n",
       "    <tr>\n",
       "      <td>ftw</td>\n",
       "      <td>1.962</td>\n",
       "      <td>7.113540</td>\n",
       "    </tr>\n",
       "    <tr>\n",
       "      <td>shit</td>\n",
       "      <td>1.894</td>\n",
       "      <td>6.645899</td>\n",
       "    </tr>\n",
       "    <tr>\n",
       "      <td>beautiful</td>\n",
       "      <td>1.805</td>\n",
       "      <td>6.079971</td>\n",
       "    </tr>\n",
       "    <tr>\n",
       "      <td>fucking</td>\n",
       "      <td>1.651</td>\n",
       "      <td>5.212189</td>\n",
       "    </tr>\n",
       "    <tr>\n",
       "      <td>resistance</td>\n",
       "      <td>1.649</td>\n",
       "      <td>5.201775</td>\n",
       "    </tr>\n",
       "    <tr>\n",
       "      <td>kavanaugh</td>\n",
       "      <td>1.646</td>\n",
       "      <td>5.186194</td>\n",
       "    </tr>\n",
       "    <tr>\n",
       "      <td>little</td>\n",
       "      <td>1.606</td>\n",
       "      <td>4.982840</td>\n",
       "    </tr>\n",
       "  </tbody>\n",
       "</table>\n",
       "</div>"
      ],
      "text/plain": [
       "               penalized_regression_coefficients        exp\n",
       "incredible                                 2.334  10.319136\n",
       "questions                                  2.166   8.723321\n",
       "heartbreaking                              2.079   7.996468\n",
       "ftw                                        1.962   7.113540\n",
       "shit                                       1.894   6.645899\n",
       "beautiful                                  1.805   6.079971\n",
       "fucking                                    1.651   5.212189\n",
       "resistance                                 1.649   5.201775\n",
       "kavanaugh                                  1.646   5.186194\n",
       "little                                     1.606   4.982840"
      ]
     },
     "execution_count": 46,
     "metadata": {},
     "output_type": "execute_result"
    }
   ],
   "source": [
    "# Show coefficients that affect r/TheOnion\n",
    "df_merged_head = df_merged.head(10)\n",
    "exp = df_merged_head['penalized_regression_coefficients'].apply(lambda x: np.exp(x))\n",
    "df_merged_head.insert(1, 'exp', exp)\n",
    "df_merged_head.sort_values('exp', ascending=False)"
   ]
  },
  {
   "cell_type": "code",
   "execution_count": 47,
   "metadata": {},
   "outputs": [
    {
     "name": "stdout",
     "output_type": "stream",
     "text": [
      "As occurences of incredible increase by 1 in a title, that title is 10.32 times as likely to be classified as r/TheOnion.\n"
     ]
    }
   ],
   "source": [
    "\n",
    "print(\"As occurences of\", df_merged_head.index[0], \"increase by 1 in a title, that title is\", \n",
    "      round(df_merged_head['exp'][0],2), \"times as likely to be classified as r/TheOnion.\")"
   ]
  },
  {
   "cell_type": "code",
   "execution_count": 48,
   "metadata": {
    "scrolled": false
   },
   "outputs": [
    {
     "data": {
      "text/html": [
       "<div>\n",
       "<style scoped>\n",
       "    .dataframe tbody tr th:only-of-type {\n",
       "        vertical-align: middle;\n",
       "    }\n",
       "\n",
       "    .dataframe tbody tr th {\n",
       "        vertical-align: top;\n",
       "    }\n",
       "\n",
       "    .dataframe thead th {\n",
       "        text-align: right;\n",
       "    }\n",
       "</style>\n",
       "<table border=\"1\" class=\"dataframe\">\n",
       "  <thead>\n",
       "    <tr style=\"text-align: right;\">\n",
       "      <th></th>\n",
       "      <th>penalized_regression_coefficients</th>\n",
       "      <th>exp</th>\n",
       "    </tr>\n",
       "  </thead>\n",
       "  <tbody>\n",
       "    <tr>\n",
       "      <td>australia</td>\n",
       "      <td>-2.710</td>\n",
       "      <td>15.029276</td>\n",
       "    </tr>\n",
       "    <tr>\n",
       "      <td>title</td>\n",
       "      <td>-2.686</td>\n",
       "      <td>14.672867</td>\n",
       "    </tr>\n",
       "    <tr>\n",
       "      <td>florida</td>\n",
       "      <td>-2.621</td>\n",
       "      <td>13.749466</td>\n",
       "    </tr>\n",
       "    <tr>\n",
       "      <td>arrested</td>\n",
       "      <td>-2.604</td>\n",
       "      <td>13.517701</td>\n",
       "    </tr>\n",
       "    <tr>\n",
       "      <td>charged</td>\n",
       "      <td>-2.426</td>\n",
       "      <td>11.313537</td>\n",
       "    </tr>\n",
       "    <tr>\n",
       "      <td>blackface</td>\n",
       "      <td>-2.381</td>\n",
       "      <td>10.815713</td>\n",
       "    </tr>\n",
       "    <tr>\n",
       "      <td>cops</td>\n",
       "      <td>-2.327</td>\n",
       "      <td>10.247154</td>\n",
       "    </tr>\n",
       "    <tr>\n",
       "      <td>cannabis</td>\n",
       "      <td>-2.303</td>\n",
       "      <td>10.004150</td>\n",
       "    </tr>\n",
       "    <tr>\n",
       "      <td>utah</td>\n",
       "      <td>-2.274</td>\n",
       "      <td>9.718196</td>\n",
       "    </tr>\n",
       "    <tr>\n",
       "      <td>dogs</td>\n",
       "      <td>-2.274</td>\n",
       "      <td>9.718196</td>\n",
       "    </tr>\n",
       "  </tbody>\n",
       "</table>\n",
       "</div>"
      ],
      "text/plain": [
       "           penalized_regression_coefficients        exp\n",
       "australia                             -2.710  15.029276\n",
       "title                                 -2.686  14.672867\n",
       "florida                               -2.621  13.749466\n",
       "arrested                              -2.604  13.517701\n",
       "charged                               -2.426  11.313537\n",
       "blackface                             -2.381  10.815713\n",
       "cops                                  -2.327  10.247154\n",
       "cannabis                              -2.303  10.004150\n",
       "utah                                  -2.274   9.718196\n",
       "dogs                                  -2.274   9.718196"
      ]
     },
     "execution_count": 48,
     "metadata": {},
     "output_type": "execute_result"
    }
   ],
   "source": [
    "# Show coefficients that affect r/nottheonion\n",
    "df_merged_tail = df_merged.tail(10)\n",
    "exp = df_merged_tail['penalized_regression_coefficients'].apply(lambda x: np.exp(x * -1))\n",
    "df_merged_tail.insert(1, 'exp', exp)\n",
    "df_merged_tail.sort_values('exp', ascending=False)"
   ]
  },
  {
   "cell_type": "code",
   "execution_count": 49,
   "metadata": {},
   "outputs": [
    {
     "name": "stdout",
     "output_type": "stream",
     "text": [
      "As occurences of australia increase by 1 in a title, that title is 15.03 times as likely to be classified as r/nottheonion.\n"
     ]
    }
   ],
   "source": [
    "print(\"As occurences of\", df_merged_tail.index[-1], \"increase by 1 in a title, that title is\", \n",
    "      round(df_merged_tail['exp'][-1],2), \"times as likely to be classified as r/nottheonion.\")"
   ]
  },
  {
   "cell_type": "code",
   "execution_count": 50,
   "metadata": {},
   "outputs": [],
   "source": [
    "from tensorflow.keras.layers import Dense"
   ]
  },
  {
   "cell_type": "markdown",
   "metadata": {},
   "source": [
    "# Conclusions and Next-Steps"
   ]
  },
  {
   "cell_type": "markdown",
   "metadata": {},
   "source": [
    "The most model to optimize for accuracy in detecting fake news and absurd news uses CountVectorizer and MultinomialDB. The optimal parameters for this model are where `ngram_range` = (1,3) and `alpha` = 0.36. \n",
    " - Accuracy: 89.72%\n",
    " - Precision: 90.87%\n",
    " - Recall: 90.02%\n",
    " - Specificity: 89.38%\n",
    " - Misclassification Rate: 11.11%\n",
    "\n",
    "To interpret my coefficients, I used my CountVectorizer & Logistic Regression model. \n",
    " - The word that contributes the most positively to being from r/TheOnion is 'incredible' followed by 'questions' and 'heartbreaking'.\n",
    "   - As occurences of \"incredible\" increase by 1 in a title, that title is 10.32 times as likely to be classified as r/TheOnion.\n",
    "\n",
    "- The word that contributes the most positively to being from r/nottheonion is 'australia' followed by 'title' and 'florida'.  \n",
    "  - As occurences of \"australia\" increase by 1 in a title, that title is 15.03 times as likely to be classified as r/nottheonion.\n",
    "\n",
    "Natural Language Processing of text is one way to analyze fake news, but a major gap exists: image & video analysis. For my next-steps, I am interested in being able to interpret media (images and videos) and classify them as authentic news, fake news, or none of the above (i.e., media for entertainment)."
   ]
  },
  {
   "cell_type": "code",
   "execution_count": 51,
   "metadata": {},
   "outputs": [
    {
     "data": {
      "text/plain": [
       "305      while mods are sleeping upvote this kg actual ...\n",
       "18748                 woman says demons made her steal car\n",
       "10624                                                     \n",
       "534          why can t i sell any of these fucking bibles \n",
       "14567    oops trump wrongly claims his father was born ...\n",
       "                               ...                        \n",
       "12218                                                     \n",
       "13109                                                     \n",
       "21235    estonians rescue wild wolf from ice thinking i...\n",
       "6736                                                      \n",
       "7872                                                      \n",
       "Name: title, Length: 19706, dtype: object"
      ]
     },
     "execution_count": 51,
     "metadata": {},
     "output_type": "execute_result"
    }
   ],
   "source": [
    "X_train"
   ]
  },
  {
   "cell_type": "code",
   "execution_count": 52,
   "metadata": {},
   "outputs": [
    {
     "data": {
      "text/plain": [
       "305      1\n",
       "18748    0\n",
       "10624    1\n",
       "534      1\n",
       "14567    0\n",
       "        ..\n",
       "12218    1\n",
       "13109    1\n",
       "21235    0\n",
       "6736     1\n",
       "7872     1\n",
       "Name: subreddit, Length: 19706, dtype: int64"
      ]
     },
     "execution_count": 52,
     "metadata": {},
     "output_type": "execute_result"
    }
   ],
   "source": [
    "y_train"
   ]
  },
  {
   "cell_type": "code",
   "execution_count": 121,
   "metadata": {},
   "outputs": [],
   "source": [
    "from keras.layers import  Dropout, Dense\n",
    "from keras.models import Sequential\n",
    "from sklearn.feature_extraction.text import TfidfVectorizer\n",
    "import numpy as np\n",
    "from sklearn import metrics\n",
    "def Build_Model_DNN_Text(nClasses, dropout=0.5):\n",
    "    \"\"\"\n",
    "    buildModel_DNN_Tex(shape, nClasses,dropout)\n",
    "    Build Deep neural networks Model for text classification\n",
    "    Shape is input feature space\n",
    "    nClasses is number of classes\n",
    "    \"\"\"\n",
    "    model = Sequential()\n",
    "    node = 4 # number of nodes\n",
    "    nLayers = 2 # number of  hidden layer\n",
    "    model.add(Dense(node,input_shape = (1,),activation='relu'))\n",
    "    model.add(Dropout(dropout))\n",
    "    for i in range(0,nLayers):\n",
    "        model.add(Dense(node,input_dim=node,activation='relu'))\n",
    "        model.add(Dropout(dropout))\n",
    "    model.add(Dense(nClasses, activation='softmax'))\n",
    "    model.compile(loss='sparse_categorical_crossentropy',\n",
    "                  optimizer='adam',\n",
    "                  metrics=['accuracy'])\n",
    "    return model"
   ]
  },
  {
   "cell_type": "code",
   "execution_count": 122,
   "metadata": {},
   "outputs": [],
   "source": [
    "m=Build_Model_DNN_Text(nClasses=2, dropout=0.5)"
   ]
  },
  {
   "cell_type": "code",
   "execution_count": 123,
   "metadata": {},
   "outputs": [],
   "source": [
    "from sklearn.preprocessing import LabelEncoder\n",
    "\n",
    "lb = LabelEncoder()"
   ]
  },
  {
   "cell_type": "code",
   "execution_count": 124,
   "metadata": {},
   "outputs": [],
   "source": [
    "X_train = lb.fit_transform(X_train)\n",
    "X_test = lb.fit_transform(X_test)"
   ]
  },
  {
   "cell_type": "code",
   "execution_count": 125,
   "metadata": {},
   "outputs": [],
   "source": [
    "#np.array(X_train).reshape(-1, 1).shape, np.array(y_train.shape"
   ]
  },
  {
   "cell_type": "code",
   "execution_count": 126,
   "metadata": {},
   "outputs": [
    {
     "name": "stdout",
     "output_type": "stream",
     "text": [
      "Epoch 1/5\n",
      "19706/19706 [==============================] - 5s 263us/step - loss: 92.0169 - accuracy: 0.5789\n",
      "Epoch 2/5\n",
      "19706/19706 [==============================] - 1s 72us/step - loss: 1.1248 - accuracy: 0.5951\n",
      "Epoch 3/5\n",
      "19706/19706 [==============================] - 1s 70us/step - loss: 1.0470 - accuracy: 0.5949\n",
      "Epoch 4/5\n",
      "19706/19706 [==============================] - 1s 63us/step - loss: 1.0075 - accuracy: 0.5874\n",
      "Epoch 5/5\n",
      "19706/19706 [==============================] - 1s 58us/step - loss: 0.9756 - accuracy: 0.5903\n"
     ]
    },
    {
     "data": {
      "text/plain": [
       "<keras.callbacks.callbacks.History at 0x23d602489c8>"
      ]
     },
     "execution_count": 126,
     "metadata": {},
     "output_type": "execute_result"
    }
   ],
   "source": [
    "m.fit(np.array(X_train),np.array(y_train),epochs=5)"
   ]
  },
  {
   "cell_type": "code",
   "execution_count": 127,
   "metadata": {},
   "outputs": [
    {
     "name": "stdout",
     "output_type": "stream",
     "text": [
      "6569/6569 [==============================] - 0s 37us/step\n"
     ]
    },
    {
     "data": {
      "text/plain": [
       "[0.7035716694409235, 0.5399604439735413]"
      ]
     },
     "execution_count": 127,
     "metadata": {},
     "output_type": "execute_result"
    }
   ],
   "source": [
    "m.evaluate(np.array(X_test), np.array(y_test))"
   ]
  },
  {
   "cell_type": "code",
   "execution_count": 158,
   "metadata": {},
   "outputs": [
    {
     "data": {
      "text/plain": [
       "array([2157,    1, 3911, ..., 1650, 3235,    1])"
      ]
     },
     "execution_count": 158,
     "metadata": {},
     "output_type": "execute_result"
    }
   ],
   "source": [
    "np.array(X_test), y_test"
   ]
  },
  {
   "cell_type": "code",
   "execution_count": 170,
   "metadata": {},
   "outputs": [],
   "source": [
    "input_ = np.array(X_test)\n",
    "\n",
    "pre = m.predict(input_)"
   ]
  },
  {
   "cell_type": "code",
   "execution_count": 177,
   "metadata": {},
   "outputs": [
    {
     "data": {
      "text/plain": [
       "subreddit                                                    1\n",
       "title        america s middle class is being erased by inco...\n",
       "Name: 2729, dtype: object"
      ]
     },
     "execution_count": 177,
     "metadata": {},
     "output_type": "execute_result"
    }
   ],
   "source": [
    "df.iloc[X_test[88],]"
   ]
  },
  {
   "cell_type": "code",
   "execution_count": 178,
   "metadata": {},
   "outputs": [
    {
     "data": {
      "text/plain": [
       "1"
      ]
     },
     "execution_count": 178,
     "metadata": {},
     "output_type": "execute_result"
    }
   ],
   "source": [
    "answer = np.argmax(pre, axis =1)\n",
    "answer[2]"
   ]
  },
  {
   "cell_type": "code",
   "execution_count": null,
   "metadata": {},
   "outputs": [],
   "source": []
  }
 ],
 "metadata": {
  "kernelspec": {
   "display_name": "Python 3",
   "language": "python",
   "name": "python3"
  },
  "language_info": {
   "codemirror_mode": {
    "name": "ipython",
    "version": 3
   },
   "file_extension": ".py",
   "mimetype": "text/x-python",
   "name": "python",
   "nbconvert_exporter": "python",
   "pygments_lexer": "ipython3",
   "version": "3.7.4"
  }
 },
 "nbformat": 4,
 "nbformat_minor": 2
}
