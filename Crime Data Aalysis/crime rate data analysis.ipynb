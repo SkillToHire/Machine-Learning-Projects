{
 "cells": [
  {
   "cell_type": "code",
   "execution_count": 1,
   "metadata": {},
   "outputs": [],
   "source": [
    "import warnings \n",
    "warnings.filterwarnings('ignore')\n",
    "import numpy as np\n",
    "import pandas as pd\n",
    "import matplotlib.pyplot as plt\n",
    "import seaborn as sns"
   ]
  },
  {
   "cell_type": "code",
   "execution_count": 2,
   "metadata": {},
   "outputs": [],
   "source": [
    "df=pd.read_csv(\"crimedata.csv\")"
   ]
  },
  {
   "cell_type": "code",
   "execution_count": 3,
   "metadata": {},
   "outputs": [
    {
     "data": {
      "text/html": [
       "<div>\n",
       "<style scoped>\n",
       "    .dataframe tbody tr th:only-of-type {\n",
       "        vertical-align: middle;\n",
       "    }\n",
       "\n",
       "    .dataframe tbody tr th {\n",
       "        vertical-align: top;\n",
       "    }\n",
       "\n",
       "    .dataframe thead th {\n",
       "        text-align: right;\n",
       "    }\n",
       "</style>\n",
       "<table border=\"1\" class=\"dataframe\">\n",
       "  <thead>\n",
       "    <tr style=\"text-align: right;\">\n",
       "      <th></th>\n",
       "      <th>STATE/UT</th>\n",
       "      <th>CRIME HEAD</th>\n",
       "      <th>2001</th>\n",
       "      <th>2002</th>\n",
       "      <th>2003</th>\n",
       "      <th>2004</th>\n",
       "      <th>2005</th>\n",
       "      <th>2006</th>\n",
       "      <th>2007</th>\n",
       "      <th>2008</th>\n",
       "      <th>2009</th>\n",
       "      <th>2010</th>\n",
       "      <th>2011</th>\n",
       "      <th>2012</th>\n",
       "    </tr>\n",
       "  </thead>\n",
       "  <tbody>\n",
       "    <tr>\n",
       "      <td>0</td>\n",
       "      <td>ANDHRA PRADESH</td>\n",
       "      <td>INFANTICIDE</td>\n",
       "      <td>1</td>\n",
       "      <td>1</td>\n",
       "      <td>3</td>\n",
       "      <td>0</td>\n",
       "      <td>0</td>\n",
       "      <td>0</td>\n",
       "      <td>1</td>\n",
       "      <td>0</td>\n",
       "      <td>5</td>\n",
       "      <td>6</td>\n",
       "      <td>1</td>\n",
       "      <td>6</td>\n",
       "    </tr>\n",
       "    <tr>\n",
       "      <td>1</td>\n",
       "      <td>ARUNACHAL PRADESH</td>\n",
       "      <td>INFANTICIDE</td>\n",
       "      <td>0</td>\n",
       "      <td>0</td>\n",
       "      <td>0</td>\n",
       "      <td>0</td>\n",
       "      <td>0</td>\n",
       "      <td>0</td>\n",
       "      <td>0</td>\n",
       "      <td>0</td>\n",
       "      <td>0</td>\n",
       "      <td>0</td>\n",
       "      <td>0</td>\n",
       "      <td>0</td>\n",
       "    </tr>\n",
       "    <tr>\n",
       "      <td>2</td>\n",
       "      <td>ASSAM</td>\n",
       "      <td>INFANTICIDE</td>\n",
       "      <td>0</td>\n",
       "      <td>5</td>\n",
       "      <td>0</td>\n",
       "      <td>0</td>\n",
       "      <td>1</td>\n",
       "      <td>0</td>\n",
       "      <td>0</td>\n",
       "      <td>0</td>\n",
       "      <td>0</td>\n",
       "      <td>0</td>\n",
       "      <td>0</td>\n",
       "      <td>0</td>\n",
       "    </tr>\n",
       "    <tr>\n",
       "      <td>3</td>\n",
       "      <td>BIHAR</td>\n",
       "      <td>INFANTICIDE</td>\n",
       "      <td>0</td>\n",
       "      <td>0</td>\n",
       "      <td>0</td>\n",
       "      <td>0</td>\n",
       "      <td>2</td>\n",
       "      <td>0</td>\n",
       "      <td>2</td>\n",
       "      <td>2</td>\n",
       "      <td>0</td>\n",
       "      <td>2</td>\n",
       "      <td>5</td>\n",
       "      <td>2</td>\n",
       "    </tr>\n",
       "    <tr>\n",
       "      <td>4</td>\n",
       "      <td>CHHATTISGARH</td>\n",
       "      <td>INFANTICIDE</td>\n",
       "      <td>7</td>\n",
       "      <td>29</td>\n",
       "      <td>5</td>\n",
       "      <td>12</td>\n",
       "      <td>0</td>\n",
       "      <td>15</td>\n",
       "      <td>11</td>\n",
       "      <td>6</td>\n",
       "      <td>2</td>\n",
       "      <td>0</td>\n",
       "      <td>10</td>\n",
       "      <td>5</td>\n",
       "    </tr>\n",
       "  </tbody>\n",
       "</table>\n",
       "</div>"
      ],
      "text/plain": [
       "            STATE/UT   CRIME HEAD  2001  2002  2003  2004  2005  2006  2007  \\\n",
       "0     ANDHRA PRADESH  INFANTICIDE     1     1     3     0     0     0     1   \n",
       "1  ARUNACHAL PRADESH  INFANTICIDE     0     0     0     0     0     0     0   \n",
       "2              ASSAM  INFANTICIDE     0     5     0     0     1     0     0   \n",
       "3              BIHAR  INFANTICIDE     0     0     0     0     2     0     2   \n",
       "4       CHHATTISGARH  INFANTICIDE     7    29     5    12     0    15    11   \n",
       "\n",
       "   2008  2009  2010  2011  2012  \n",
       "0     0     5     6     1     6  \n",
       "1     0     0     0     0     0  \n",
       "2     0     0     0     0     0  \n",
       "3     2     0     2     5     2  \n",
       "4     6     2     0    10     5  "
      ]
     },
     "execution_count": 3,
     "metadata": {},
     "output_type": "execute_result"
    }
   ],
   "source": [
    "df.head()"
   ]
  },
  {
   "cell_type": "code",
   "execution_count": 4,
   "metadata": {},
   "outputs": [
    {
     "data": {
      "text/html": [
       "<div>\n",
       "<style scoped>\n",
       "    .dataframe tbody tr th:only-of-type {\n",
       "        vertical-align: middle;\n",
       "    }\n",
       "\n",
       "    .dataframe tbody tr th {\n",
       "        vertical-align: top;\n",
       "    }\n",
       "\n",
       "    .dataframe thead th {\n",
       "        text-align: right;\n",
       "    }\n",
       "</style>\n",
       "<table border=\"1\" class=\"dataframe\">\n",
       "  <thead>\n",
       "    <tr style=\"text-align: right;\">\n",
       "      <th></th>\n",
       "      <th>STATE/UT</th>\n",
       "      <th>CRIME HEAD</th>\n",
       "      <th>2001</th>\n",
       "      <th>2002</th>\n",
       "      <th>2003</th>\n",
       "      <th>2004</th>\n",
       "      <th>2005</th>\n",
       "      <th>2006</th>\n",
       "      <th>2007</th>\n",
       "      <th>2008</th>\n",
       "      <th>2009</th>\n",
       "      <th>2010</th>\n",
       "      <th>2011</th>\n",
       "      <th>2012</th>\n",
       "      <th>total</th>\n",
       "    </tr>\n",
       "  </thead>\n",
       "  <tbody>\n",
       "    <tr>\n",
       "      <td>0</td>\n",
       "      <td>ANDHRA PRADESH</td>\n",
       "      <td>INFANTICIDE</td>\n",
       "      <td>1</td>\n",
       "      <td>1</td>\n",
       "      <td>3</td>\n",
       "      <td>0</td>\n",
       "      <td>0</td>\n",
       "      <td>0</td>\n",
       "      <td>1</td>\n",
       "      <td>0</td>\n",
       "      <td>5</td>\n",
       "      <td>6</td>\n",
       "      <td>1</td>\n",
       "      <td>6</td>\n",
       "      <td>24</td>\n",
       "    </tr>\n",
       "    <tr>\n",
       "      <td>1</td>\n",
       "      <td>ARUNACHAL PRADESH</td>\n",
       "      <td>INFANTICIDE</td>\n",
       "      <td>0</td>\n",
       "      <td>0</td>\n",
       "      <td>0</td>\n",
       "      <td>0</td>\n",
       "      <td>0</td>\n",
       "      <td>0</td>\n",
       "      <td>0</td>\n",
       "      <td>0</td>\n",
       "      <td>0</td>\n",
       "      <td>0</td>\n",
       "      <td>0</td>\n",
       "      <td>0</td>\n",
       "      <td>0</td>\n",
       "    </tr>\n",
       "    <tr>\n",
       "      <td>2</td>\n",
       "      <td>ASSAM</td>\n",
       "      <td>INFANTICIDE</td>\n",
       "      <td>0</td>\n",
       "      <td>5</td>\n",
       "      <td>0</td>\n",
       "      <td>0</td>\n",
       "      <td>1</td>\n",
       "      <td>0</td>\n",
       "      <td>0</td>\n",
       "      <td>0</td>\n",
       "      <td>0</td>\n",
       "      <td>0</td>\n",
       "      <td>0</td>\n",
       "      <td>0</td>\n",
       "      <td>6</td>\n",
       "    </tr>\n",
       "    <tr>\n",
       "      <td>3</td>\n",
       "      <td>BIHAR</td>\n",
       "      <td>INFANTICIDE</td>\n",
       "      <td>0</td>\n",
       "      <td>0</td>\n",
       "      <td>0</td>\n",
       "      <td>0</td>\n",
       "      <td>2</td>\n",
       "      <td>0</td>\n",
       "      <td>2</td>\n",
       "      <td>2</td>\n",
       "      <td>0</td>\n",
       "      <td>2</td>\n",
       "      <td>5</td>\n",
       "      <td>2</td>\n",
       "      <td>15</td>\n",
       "    </tr>\n",
       "    <tr>\n",
       "      <td>4</td>\n",
       "      <td>CHHATTISGARH</td>\n",
       "      <td>INFANTICIDE</td>\n",
       "      <td>7</td>\n",
       "      <td>29</td>\n",
       "      <td>5</td>\n",
       "      <td>12</td>\n",
       "      <td>0</td>\n",
       "      <td>15</td>\n",
       "      <td>11</td>\n",
       "      <td>6</td>\n",
       "      <td>2</td>\n",
       "      <td>0</td>\n",
       "      <td>10</td>\n",
       "      <td>5</td>\n",
       "      <td>102</td>\n",
       "    </tr>\n",
       "  </tbody>\n",
       "</table>\n",
       "</div>"
      ],
      "text/plain": [
       "            STATE/UT   CRIME HEAD  2001  2002  2003  2004  2005  2006  2007  \\\n",
       "0     ANDHRA PRADESH  INFANTICIDE     1     1     3     0     0     0     1   \n",
       "1  ARUNACHAL PRADESH  INFANTICIDE     0     0     0     0     0     0     0   \n",
       "2              ASSAM  INFANTICIDE     0     5     0     0     1     0     0   \n",
       "3              BIHAR  INFANTICIDE     0     0     0     0     2     0     2   \n",
       "4       CHHATTISGARH  INFANTICIDE     7    29     5    12     0    15    11   \n",
       "\n",
       "   2008  2009  2010  2011  2012  total  \n",
       "0     0     5     6     1     6     24  \n",
       "1     0     0     0     0     0      0  \n",
       "2     0     0     0     0     0      6  \n",
       "3     2     0     2     5     2     15  \n",
       "4     6     2     0    10     5    102  "
      ]
     },
     "execution_count": 4,
     "metadata": {},
     "output_type": "execute_result"
    }
   ],
   "source": [
    "df['total']=df.iloc[:,-12:].sum(axis=1)\n",
    "df.head()"
   ]
  },
  {
   "cell_type": "markdown",
   "metadata": {},
   "source": [
    "##### State Wise Crime Analysis"
   ]
  },
  {
   "cell_type": "code",
   "execution_count": 5,
   "metadata": {},
   "outputs": [
    {
     "data": {
      "application/vnd.jupyter.widget-view+json": {
       "model_id": "a01b2e4ea5ed4dffbb3cbdacf5481dd3",
       "version_major": 2,
       "version_minor": 0
      },
      "text/plain": [
       "interactive(children=(Dropdown(description='STATE/UT:', options=('All', 'ANDHRA PRADESH', 'ARUNACHAL PRADESH',…"
      ]
     },
     "metadata": {},
     "output_type": "display_data"
    }
   ],
   "source": [
    "from IPython.html import widgets\n",
    "from IPython.display import display\n",
    "from ipywidgets import widgets, interactive\n",
    "state = widgets.Dropdown(\n",
    "    options=['All'] + list(df['STATE/UT'].unique()),\n",
    "    value='All',\n",
    "    description='STATE/UT:',\n",
    ")\n",
    "def plot(state):\n",
    "    \n",
    "    if state==\"All\":\n",
    "        plt.figure(figsize=(10,4))\n",
    "        plt.barh(df[\"CRIME HEAD\"],df[\"total\"] ,color='green', align='center')\n",
    "        plt.title(\"Total Crime\")\n",
    "        plt.ylabel(\"Crime Type\")\n",
    "        plt.xlabel(\"No.of Crimes\")\n",
    "    else:\n",
    "        p=df[df[\"STATE/UT\"]==state]\n",
    "        plt.figure(figsize=(10,4))\n",
    "        plt.barh(p[\"CRIME HEAD\"],p['total'],color=\"brown\",label=\"State \"+str(state))\n",
    "        plt.title(\"Total Crime in \"+str(state))\n",
    "        plt.ylabel(\"Crime Type\")\n",
    "        plt.xlabel(\"No.of Crimes\")\n",
    "        plt.legend(loc=0)\n",
    "interactive(plot,state=state)"
   ]
  },
  {
   "cell_type": "markdown",
   "metadata": {},
   "source": [
    "##### Crime wise State Analysis"
   ]
  },
  {
   "cell_type": "code",
   "execution_count": 6,
   "metadata": {},
   "outputs": [
    {
     "data": {
      "application/vnd.jupyter.widget-view+json": {
       "model_id": "190e2ce68085446b9f5fc88bdacdafeb",
       "version_major": 2,
       "version_minor": 0
      },
      "text/plain": [
       "interactive(children=(Dropdown(description='Crime:', options=('All', 'INFANTICIDE', 'MURDER OF CHILDREN', 'RAP…"
      ]
     },
     "metadata": {},
     "output_type": "display_data"
    }
   ],
   "source": [
    "from IPython.html import widgets\n",
    "from IPython.display import display\n",
    "from ipywidgets import widgets, interactive\n",
    "crime = widgets.Dropdown(\n",
    "    options=['All'] + list(df['CRIME HEAD'].unique()),\n",
    "    value='All',\n",
    "    description='Crime:',\n",
    ")\n",
    "def plot(crime):\n",
    "    \n",
    "    if crime==\"All\":\n",
    "            plt.figure(figsize=(10,4))\n",
    "            state=df[[\"STATE/UT\",\"total\"]].groupby(df[\"STATE/UT\"]).sum()\n",
    "            s_state=state.sort_values([\"total\"],ascending=False)\n",
    "            l=[i[0] for i in s_state.values[2:,]]\n",
    "            np.array(l)\n",
    "            plt.figure(figsize=(10,6))\n",
    "            plt.bar(s_state.index[2:,],np.array(l),align='center')\n",
    "            plt.xticks(rotation='vertical')\n",
    "            plt.tight_layout()\n",
    "            plt.title(\"State Wide Crime Analysis\")\n",
    "            plt.xlabel(\"State Name\")\n",
    "            plt.ylabel(\"No.of Crimes\")\n",
    "    else:\n",
    "        p=df[df[\"CRIME HEAD\"]==crime]\n",
    "        plt.figure(figsize=(10,4))\n",
    "        state=p[[\"STATE/UT\",\"total\"]].groupby(p[\"STATE/UT\"]).sum()\n",
    "        s_state=state.sort_values([\"total\"],ascending=False)\n",
    "        l=[i[0] for i in s_state.values[2:,]]\n",
    "        np.array(l)\n",
    "        plt.figure(figsize=(10,6))\n",
    "        plt.bar(s_state.index[2:,],np.array(l),align='center')\n",
    "        plt.xticks(rotation='vertical')\n",
    "        plt.tight_layout()\n",
    "        plt.title(\"State Wide Crime Analysis \"+str(crime))\n",
    "        plt.xlabel(\"State Name\")\n",
    "        plt.ylabel(\"No.of Crimes\")\n",
    "interactive(plot,crime=crime)"
   ]
  },
  {
   "cell_type": "code",
   "execution_count": 7,
   "metadata": {},
   "outputs": [
    {
     "data": {
      "text/plain": [
       "Index(['STATE/UT', 'CRIME HEAD', '2001', '2002', '2003', '2004', '2005',\n",
       "       '2006', '2007', '2008', '2009', '2010', '2011', '2012', 'total'],\n",
       "      dtype='object')"
      ]
     },
     "execution_count": 7,
     "metadata": {},
     "output_type": "execute_result"
    }
   ],
   "source": [
    "df.columns"
   ]
  },
  {
   "cell_type": "code",
   "execution_count": 8,
   "metadata": {},
   "outputs": [
    {
     "data": {
      "text/plain": [
       "Text(0.5, 1.0, 'Year wise crime growth')"
      ]
     },
     "execution_count": 8,
     "metadata": {},
     "output_type": "execute_result"
    },
    {
     "data": {
      "image/png": "[encoded data removed]",
      "text/plain": [
       "<Figure size 432x288 with 1 Axes>"
      ]
     },
     "metadata": {
      "needs_background": "light"
     },
     "output_type": "display_data"
    }
   ],
   "source": [
    "l1=[df[str(i)].sum() for i in df.columns[2:-1]]\n",
    "sns.lineplot(df.columns[2:-1],l1)\n",
    "plt.title(\"Year wise crime growth\")"
   ]
  },
  {
   "cell_type": "code",
   "execution_count": null,
   "metadata": {},
   "outputs": [],
   "source": []
  }
 ],
 "metadata": {
  "kernelspec": {
   "display_name": "Python 3",
   "language": "python",
   "name": "python3"
  },
  "language_info": {
   "codemirror_mode": {
    "name": "ipython",
    "version": 3
   },
   "file_extension": ".py",
   "mimetype": "text/x-python",
   "name": "python",
   "nbconvert_exporter": "python",
   "pygments_lexer": "ipython3",
   "version": "3.7.4"
  }
 },
 "nbformat": 4,
 "nbformat_minor": 2
}
